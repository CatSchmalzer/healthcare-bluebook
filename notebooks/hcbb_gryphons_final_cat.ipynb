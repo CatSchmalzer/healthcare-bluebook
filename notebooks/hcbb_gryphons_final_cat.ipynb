{
 "cells": [
  {
   "cell_type": "markdown",
   "metadata": {},
   "source": [
    "## HCBB gryphons_goal_3"
   ]
  },
  {
   "cell_type": "code",
   "execution_count": null,
   "metadata": {},
   "outputs": [],
   "source": [
    "import pandas as pd\n",
    "import matplotlib.pyplot as plt\n",
    "import time\n",
    "\n",
    "%matplotlib inline"
   ]
  },
  {
   "cell_type": "markdown",
   "metadata": {},
   "source": [
    "## 1. What procedures could be reasonably associated with each individual Provider Type? (There are 88 types of Providers.)\n",
    "- Filters for Physician/Other Supplier --Do we need a \"credentials of the provider\" column?\n",
    "    - Entity Type = I\n",
    "    - Place of Service = F and/or O\n",
    "- What is the normal ‘basket’ of procedures for each Provider Type?"
   ]
  },
  {
   "cell_type": "markdown",
   "metadata": {},
   "source": [
    "## 2. Which procedure codes drive the most revenue for each Professional Provider Types?\n",
    "- Exclude office visits"
   ]
  },
  {
   "cell_type": "markdown",
   "metadata": {},
   "source": [
    "## Stretch: Create a process that predicts if an individual professional should be Provider Type ‘Orthopedic Surgery’ based on the procedure codes they have data for.\n",
    "- How often does this data-driven expected Provider Type of ‘Orthopedic Surgery’ differ from the listed Provider Type for given professional?"
   ]
  },
  {
   "cell_type": "markdown",
   "metadata": {},
   "source": [
    "## Import pkl data, from first project notebook"
   ]
  },
  {
   "cell_type": "code",
   "execution_count": null,
   "metadata": {},
   "outputs": [],
   "source": [
    "providers_and_procedures = pd.read_pickle(\"../data/hcpcs_providers_clean.pkl\")"
   ]
  },
  {
   "cell_type": "markdown",
   "metadata": {},
   "source": [
    "## begin EDA of dataset"
   ]
  },
  {
   "cell_type": "code",
   "execution_count": null,
   "metadata": {},
   "outputs": [],
   "source": [
    "providers_and_procedures.info()"
   ]
  },
  {
   "cell_type": "code",
   "execution_count": null,
   "metadata": {},
   "outputs": [],
   "source": [
    "providers_and_procedures.head()"
   ]
  },
  {
   "cell_type": "code",
   "execution_count": null,
   "metadata": {},
   "outputs": [],
   "source": [
    "providers_and_procedures['Place of Service'].value_counts()"
   ]
  },
  {
   "cell_type": "code",
   "execution_count": null,
   "metadata": {},
   "outputs": [],
   "source": [
    "providers_and_procedures['Provider Type'].unique()"
   ]
  },
  {
   "cell_type": "code",
   "execution_count": null,
   "metadata": {},
   "outputs": [],
   "source": [
    "providers_and_procedures['HCPCS Description'].value_counts()"
   ]
  },
  {
   "cell_type": "markdown",
   "metadata": {},
   "source": [
    "## Begin work on Question 1. \n",
    "- create pivot table for provider types and HCPCS descriptions"
   ]
  },
  {
   "cell_type": "code",
   "execution_count": null,
   "metadata": {},
   "outputs": [],
   "source": [
    "providers_pivot_table = pd.pivot_table(providers_and_procedures, index = ['Provider Type', 'HCPCS Code', \n",
    "                                                                          'HCPCS Description', 'Place of Service'])"
   ]
  },
  {
   "cell_type": "code",
   "execution_count": null,
   "metadata": {},
   "outputs": [],
   "source": [
    "providers_pivot_table.head(75)"
   ]
  },
  {
   "cell_type": "code",
   "execution_count": null,
   "metadata": {},
   "outputs": [],
   "source": [
    "providers_pivot_table.shape"
   ]
  },
  {
   "cell_type": "markdown",
   "metadata": {},
   "source": [
    "## Attempt subset of one Provider Type - 'Addiction Medicine'"
   ]
  },
  {
   "cell_type": "code",
   "execution_count": null,
   "metadata": {},
   "outputs": [],
   "source": [
    "addict_med_type = providers_and_procedures.loc[providers_and_procedures['Provider Type'] == 'Addiction Medicine']"
   ]
  },
  {
   "cell_type": "code",
   "execution_count": null,
   "metadata": {},
   "outputs": [],
   "source": [
    "addict_med_type.shape"
   ]
  },
  {
   "cell_type": "code",
   "execution_count": null,
   "metadata": {},
   "outputs": [],
   "source": [
    "addict_med_type.head()"
   ]
  },
  {
   "cell_type": "code",
   "execution_count": null,
   "metadata": {},
   "outputs": [],
   "source": [
    "addiction_pivot_table = pd.pivot_table(addict_med_type, index = ['Provider Type', 'HCPCS Description'])"
   ]
  },
  {
   "cell_type": "code",
   "execution_count": null,
   "metadata": {},
   "outputs": [],
   "source": [
    "addiction_pivot_table.shape"
   ]
  },
  {
   "cell_type": "markdown",
   "metadata": {},
   "source": [
    "## Turn full pivot table into a dataframe"
   ]
  },
  {
   "cell_type": "code",
   "execution_count": null,
   "metadata": {},
   "outputs": [],
   "source": [
    "## df = table.reset_index() \n",
    "prov_desc_df = providers_pivot_table.reset_index()\n",
    "prov_desc_df.head(5)"
   ]
  },
  {
   "cell_type": "code",
   "execution_count": null,
   "metadata": {},
   "outputs": [],
   "source": [
    "prov_desc_df['HCPCS Description'].value_counts()"
   ]
  },
  {
   "cell_type": "markdown",
   "metadata": {},
   "source": [
    "## Delete HCPCS codes for office visits"
   ]
  },
  {
   "cell_type": "code",
   "execution_count": null,
   "metadata": {},
   "outputs": [],
   "source": [
    "prov_desc_df_no_office = prov_desc_df.loc[~prov_desc_df['HCPCS Code'].str.contains('992..|993..', regex=True)]"
   ]
  },
  {
   "cell_type": "code",
   "execution_count": 246,
   "metadata": {},
   "outputs": [
    {
     "data": {
      "text/plain": [
       "(51680, 12)"
      ]
     },
     "execution_count": 246,
     "metadata": {},
     "output_type": "execute_result"
    }
   ],
   "source": [
    "prov_desc_df_no_office.shape"
   ]
  },
  {
   "cell_type": "code",
   "execution_count": null,
   "metadata": {},
   "outputs": [],
   "source": [
    "prov_desc_df_no_office"
   ]
  },
  {
   "cell_type": "markdown",
   "metadata": {},
   "source": [
    "## Calculate percentage of the services provided for each type."
   ]
  },
  {
   "cell_type": "code",
   "execution_count": 247,
   "metadata": {},
   "outputs": [],
   "source": [
    "## sort the provider types with the number of services ranked \n",
    "prov_desc_df_sorted = prov_desc_df_no_office.sort_values(by = ['Provider Type', 'Number of Services'], ascending = (True, False))"
   ]
  },
  {
   "cell_type": "code",
   "execution_count": 248,
   "metadata": {},
   "outputs": [
    {
     "data": {
      "text/html": [
       "<div>\n",
       "<style scoped>\n",
       "    .dataframe tbody tr th:only-of-type {\n",
       "        vertical-align: middle;\n",
       "    }\n",
       "\n",
       "    .dataframe tbody tr th {\n",
       "        vertical-align: top;\n",
       "    }\n",
       "\n",
       "    .dataframe thead th {\n",
       "        text-align: right;\n",
       "    }\n",
       "</style>\n",
       "<table border=\"1\" class=\"dataframe\">\n",
       "  <thead>\n",
       "    <tr style=\"text-align: right;\">\n",
       "      <th></th>\n",
       "      <th>Provider Type</th>\n",
       "      <th>HCPCS Code</th>\n",
       "      <th>HCPCS Description</th>\n",
       "      <th>Place of Service</th>\n",
       "      <th>Average Medicare Allowed Amount</th>\n",
       "      <th>Average Medicare Payment Amount</th>\n",
       "      <th>Average Medicare Standardized Amount</th>\n",
       "      <th>Average Submitted Charge Amount</th>\n",
       "      <th>National Provider Identifier</th>\n",
       "      <th>Number of Distinct Medicare Beneficiary/Per Day Services</th>\n",
       "      <th>Number of Medicare Beneficiaries</th>\n",
       "      <th>Number of Services</th>\n",
       "    </tr>\n",
       "  </thead>\n",
       "  <tbody>\n",
       "    <tr>\n",
       "      <td>71</td>\n",
       "      <td>Addiction Medicine</td>\n",
       "      <td>90847</td>\n",
       "      <td>Family psychotherapy including patient, 50 min...</td>\n",
       "      <td>O</td>\n",
       "      <td>102.760000</td>\n",
       "      <td>75.680820</td>\n",
       "      <td>80.779673</td>\n",
       "      <td>120.013687</td>\n",
       "      <td>1.700878e+09</td>\n",
       "      <td>1622.0</td>\n",
       "      <td>128.0</td>\n",
       "      <td>1622.0</td>\n",
       "    </tr>\n",
       "    <tr>\n",
       "      <td>83</td>\n",
       "      <td>Addiction Medicine</td>\n",
       "      <td>95004</td>\n",
       "      <td>Injection of allergenic extracts into skin, ac...</td>\n",
       "      <td>O</td>\n",
       "      <td>6.360746</td>\n",
       "      <td>4.800754</td>\n",
       "      <td>5.395866</td>\n",
       "      <td>8.425672</td>\n",
       "      <td>1.295891e+09</td>\n",
       "      <td>39.0</td>\n",
       "      <td>39.0</td>\n",
       "      <td>1340.0</td>\n",
       "    </tr>\n",
       "    <tr>\n",
       "      <td>33</td>\n",
       "      <td>Addiction Medicine</td>\n",
       "      <td>82575</td>\n",
       "      <td>Creatinine clearance measurement to test for k...</td>\n",
       "      <td>O</td>\n",
       "      <td>12.970000</td>\n",
       "      <td>12.710000</td>\n",
       "      <td>12.710000</td>\n",
       "      <td>25.000000</td>\n",
       "      <td>1.942314e+09</td>\n",
       "      <td>957.0</td>\n",
       "      <td>41.0</td>\n",
       "      <td>957.0</td>\n",
       "    </tr>\n",
       "    <tr>\n",
       "      <td>156</td>\n",
       "      <td>Addiction Medicine</td>\n",
       "      <td>G0397</td>\n",
       "      <td>Alcohol and/or substance (other than tobacco) ...</td>\n",
       "      <td>O</td>\n",
       "      <td>69.620000</td>\n",
       "      <td>53.877956</td>\n",
       "      <td>55.292240</td>\n",
       "      <td>139.240000</td>\n",
       "      <td>1.124073e+09</td>\n",
       "      <td>817.0</td>\n",
       "      <td>283.0</td>\n",
       "      <td>817.0</td>\n",
       "    </tr>\n",
       "    <tr>\n",
       "      <td>80</td>\n",
       "      <td>Addiction Medicine</td>\n",
       "      <td>93798</td>\n",
       "      <td>Physician services for outpatient heart rehabi...</td>\n",
       "      <td>F</td>\n",
       "      <td>13.580000</td>\n",
       "      <td>10.207731</td>\n",
       "      <td>10.823529</td>\n",
       "      <td>100.000000</td>\n",
       "      <td>1.740270e+09</td>\n",
       "      <td>595.0</td>\n",
       "      <td>31.0</td>\n",
       "      <td>595.0</td>\n",
       "    </tr>\n",
       "    <tr>\n",
       "      <td>...</td>\n",
       "      <td>...</td>\n",
       "      <td>...</td>\n",
       "      <td>...</td>\n",
       "      <td>...</td>\n",
       "      <td>...</td>\n",
       "      <td>...</td>\n",
       "      <td>...</td>\n",
       "      <td>...</td>\n",
       "      <td>...</td>\n",
       "      <td>...</td>\n",
       "      <td>...</td>\n",
       "      <td>...</td>\n",
       "    </tr>\n",
       "    <tr>\n",
       "      <td>55755</td>\n",
       "      <td>Vascular Surgery</td>\n",
       "      <td>71101</td>\n",
       "      <td>X-ray of ribs on one side of body including th...</td>\n",
       "      <td>F</td>\n",
       "      <td>13.000000</td>\n",
       "      <td>9.263636</td>\n",
       "      <td>9.774545</td>\n",
       "      <td>47.545455</td>\n",
       "      <td>1.578745e+09</td>\n",
       "      <td>11.0</td>\n",
       "      <td>11.0</td>\n",
       "      <td>11.0</td>\n",
       "    </tr>\n",
       "    <tr>\n",
       "      <td>55791</td>\n",
       "      <td>Vascular Surgery</td>\n",
       "      <td>73522</td>\n",
       "      <td>X-ray of both hips with pelvis, 3-4 views</td>\n",
       "      <td>F</td>\n",
       "      <td>14.340000</td>\n",
       "      <td>11.240000</td>\n",
       "      <td>11.810000</td>\n",
       "      <td>44.000000</td>\n",
       "      <td>1.578745e+09</td>\n",
       "      <td>11.0</td>\n",
       "      <td>11.0</td>\n",
       "      <td>11.0</td>\n",
       "    </tr>\n",
       "    <tr>\n",
       "      <td>55861</td>\n",
       "      <td>Vascular Surgery</td>\n",
       "      <td>75956</td>\n",
       "      <td>Radiological supervision and interpretation of...</td>\n",
       "      <td>F</td>\n",
       "      <td>331.350000</td>\n",
       "      <td>259.780000</td>\n",
       "      <td>278.840000</td>\n",
       "      <td>2666.000000</td>\n",
       "      <td>1.326207e+09</td>\n",
       "      <td>11.0</td>\n",
       "      <td>11.0</td>\n",
       "      <td>11.0</td>\n",
       "    </tr>\n",
       "    <tr>\n",
       "      <td>55956</td>\n",
       "      <td>Vascular Surgery</td>\n",
       "      <td>92950</td>\n",
       "      <td>Attempt to restart heart and lungs</td>\n",
       "      <td>F</td>\n",
       "      <td>198.150000</td>\n",
       "      <td>152.240000</td>\n",
       "      <td>150.530000</td>\n",
       "      <td>845.000000</td>\n",
       "      <td>1.538141e+09</td>\n",
       "      <td>11.0</td>\n",
       "      <td>11.0</td>\n",
       "      <td>11.0</td>\n",
       "    </tr>\n",
       "    <tr>\n",
       "      <td>56036</td>\n",
       "      <td>Vascular Surgery</td>\n",
       "      <td>95811</td>\n",
       "      <td>Sleep monitoring of patient (6 years or older)...</td>\n",
       "      <td>O</td>\n",
       "      <td>633.477273</td>\n",
       "      <td>496.642727</td>\n",
       "      <td>501.543636</td>\n",
       "      <td>2409.090909</td>\n",
       "      <td>1.073533e+09</td>\n",
       "      <td>11.0</td>\n",
       "      <td>11.0</td>\n",
       "      <td>11.0</td>\n",
       "    </tr>\n",
       "  </tbody>\n",
       "</table>\n",
       "<p>51680 rows × 12 columns</p>\n",
       "</div>"
      ],
      "text/plain": [
       "            Provider Type HCPCS Code  \\\n",
       "71     Addiction Medicine      90847   \n",
       "83     Addiction Medicine      95004   \n",
       "33     Addiction Medicine      82575   \n",
       "156    Addiction Medicine      G0397   \n",
       "80     Addiction Medicine      93798   \n",
       "...                   ...        ...   \n",
       "55755    Vascular Surgery      71101   \n",
       "55791    Vascular Surgery      73522   \n",
       "55861    Vascular Surgery      75956   \n",
       "55956    Vascular Surgery      92950   \n",
       "56036    Vascular Surgery      95811   \n",
       "\n",
       "                                       HCPCS Description Place of Service  \\\n",
       "71     Family psychotherapy including patient, 50 min...                O   \n",
       "83     Injection of allergenic extracts into skin, ac...                O   \n",
       "33     Creatinine clearance measurement to test for k...                O   \n",
       "156    Alcohol and/or substance (other than tobacco) ...                O   \n",
       "80     Physician services for outpatient heart rehabi...                F   \n",
       "...                                                  ...              ...   \n",
       "55755  X-ray of ribs on one side of body including th...                F   \n",
       "55791          X-ray of both hips with pelvis, 3-4 views                F   \n",
       "55861  Radiological supervision and interpretation of...                F   \n",
       "55956                 Attempt to restart heart and lungs                F   \n",
       "56036  Sleep monitoring of patient (6 years or older)...                O   \n",
       "\n",
       "       Average Medicare Allowed Amount  Average Medicare Payment Amount  \\\n",
       "71                          102.760000                        75.680820   \n",
       "83                            6.360746                         4.800754   \n",
       "33                           12.970000                        12.710000   \n",
       "156                          69.620000                        53.877956   \n",
       "80                           13.580000                        10.207731   \n",
       "...                                ...                              ...   \n",
       "55755                        13.000000                         9.263636   \n",
       "55791                        14.340000                        11.240000   \n",
       "55861                       331.350000                       259.780000   \n",
       "55956                       198.150000                       152.240000   \n",
       "56036                       633.477273                       496.642727   \n",
       "\n",
       "       Average Medicare Standardized Amount  Average Submitted Charge Amount  \\\n",
       "71                                80.779673                       120.013687   \n",
       "83                                 5.395866                         8.425672   \n",
       "33                                12.710000                        25.000000   \n",
       "156                               55.292240                       139.240000   \n",
       "80                                10.823529                       100.000000   \n",
       "...                                     ...                              ...   \n",
       "55755                              9.774545                        47.545455   \n",
       "55791                             11.810000                        44.000000   \n",
       "55861                            278.840000                      2666.000000   \n",
       "55956                            150.530000                       845.000000   \n",
       "56036                            501.543636                      2409.090909   \n",
       "\n",
       "       National Provider Identifier  \\\n",
       "71                     1.700878e+09   \n",
       "83                     1.295891e+09   \n",
       "33                     1.942314e+09   \n",
       "156                    1.124073e+09   \n",
       "80                     1.740270e+09   \n",
       "...                             ...   \n",
       "55755                  1.578745e+09   \n",
       "55791                  1.578745e+09   \n",
       "55861                  1.326207e+09   \n",
       "55956                  1.538141e+09   \n",
       "56036                  1.073533e+09   \n",
       "\n",
       "       Number of Distinct Medicare Beneficiary/Per Day Services  \\\n",
       "71                                                1622.0          \n",
       "83                                                  39.0          \n",
       "33                                                 957.0          \n",
       "156                                                817.0          \n",
       "80                                                 595.0          \n",
       "...                                                  ...          \n",
       "55755                                               11.0          \n",
       "55791                                               11.0          \n",
       "55861                                               11.0          \n",
       "55956                                               11.0          \n",
       "56036                                               11.0          \n",
       "\n",
       "       Number of Medicare Beneficiaries  Number of Services  \n",
       "71                                128.0              1622.0  \n",
       "83                                 39.0              1340.0  \n",
       "33                                 41.0               957.0  \n",
       "156                               283.0               817.0  \n",
       "80                                 31.0               595.0  \n",
       "...                                 ...                 ...  \n",
       "55755                              11.0                11.0  \n",
       "55791                              11.0                11.0  \n",
       "55861                              11.0                11.0  \n",
       "55956                              11.0                11.0  \n",
       "56036                              11.0                11.0  \n",
       "\n",
       "[51680 rows x 12 columns]"
      ]
     },
     "execution_count": 248,
     "metadata": {},
     "output_type": "execute_result"
    }
   ],
   "source": [
    "prov_desc_df_sorted"
   ]
  },
  {
   "cell_type": "code",
   "execution_count": 249,
   "metadata": {},
   "outputs": [],
   "source": [
    "## makes a list of datframes for each single provider type with its hcpcs codes from the original df\n",
    "provider_type_df_list = list(prov_desc_df_sorted.groupby(['Provider Type'])) "
   ]
  },
  {
   "cell_type": "code",
   "execution_count": 250,
   "metadata": {},
   "outputs": [
    {
     "data": {
      "text/plain": [
       "87"
      ]
     },
     "execution_count": 250,
     "metadata": {},
     "output_type": "execute_result"
    }
   ],
   "source": [
    "len(provider_type_df_list) ## check for 88 provider types--one is lost from dropping office visits"
   ]
  },
  {
   "cell_type": "code",
   "execution_count": null,
   "metadata": {},
   "outputs": [],
   "source": [
    "provider_type_df_list[0]"
   ]
  },
  {
   "cell_type": "code",
   "execution_count": 257,
   "metadata": {},
   "outputs": [],
   "source": [
    "## iterate over list\n",
    "provider_threshold_list = []\n",
    "\n",
    "for group, provider in provider_type_df_list:\n",
    "    total_hcpcs = len(provider) ## number of hcpcs for each provider\n",
    "    keep_rows = round(total_hcpcs * .80) ## can change this number to keep desired percentage\n",
    "    keep_provider = provider.head(keep_rows)\n",
    "    provider_threshold_list.append(keep_provider)\n",
    "\n",
    "providers_final = pd.concat(provider_threshold_list)"
   ]
  },
  {
   "cell_type": "code",
   "execution_count": 258,
   "metadata": {},
   "outputs": [
    {
     "data": {
      "text/plain": [
       "87"
      ]
     },
     "execution_count": 258,
     "metadata": {},
     "output_type": "execute_result"
    }
   ],
   "source": [
    "len(provider_threshold_list)"
   ]
  },
  {
   "cell_type": "code",
   "execution_count": 260,
   "metadata": {},
   "outputs": [
    {
     "data": {
      "text/html": [
       "<div>\n",
       "<style scoped>\n",
       "    .dataframe tbody tr th:only-of-type {\n",
       "        vertical-align: middle;\n",
       "    }\n",
       "\n",
       "    .dataframe tbody tr th {\n",
       "        vertical-align: top;\n",
       "    }\n",
       "\n",
       "    .dataframe thead th {\n",
       "        text-align: right;\n",
       "    }\n",
       "</style>\n",
       "<table border=\"1\" class=\"dataframe\">\n",
       "  <thead>\n",
       "    <tr style=\"text-align: right;\">\n",
       "      <th></th>\n",
       "      <th>index</th>\n",
       "      <th>Provider Type</th>\n",
       "      <th>HCPCS Code</th>\n",
       "      <th>HCPCS Description</th>\n",
       "      <th>Place of Service</th>\n",
       "      <th>Average Medicare Allowed Amount</th>\n",
       "      <th>Average Medicare Payment Amount</th>\n",
       "      <th>Average Medicare Standardized Amount</th>\n",
       "      <th>Average Submitted Charge Amount</th>\n",
       "      <th>National Provider Identifier</th>\n",
       "      <th>Number of Distinct Medicare Beneficiary/Per Day Services</th>\n",
       "      <th>Number of Medicare Beneficiaries</th>\n",
       "      <th>Number of Services</th>\n",
       "    </tr>\n",
       "  </thead>\n",
       "  <tbody>\n",
       "    <tr>\n",
       "      <td>0</td>\n",
       "      <td>71</td>\n",
       "      <td>Addiction Medicine</td>\n",
       "      <td>90847</td>\n",
       "      <td>Family psychotherapy including patient, 50 min...</td>\n",
       "      <td>O</td>\n",
       "      <td>102.760000</td>\n",
       "      <td>75.680820</td>\n",
       "      <td>80.779673</td>\n",
       "      <td>120.013687</td>\n",
       "      <td>1.700878e+09</td>\n",
       "      <td>1622.0</td>\n",
       "      <td>128.0</td>\n",
       "      <td>1622.0</td>\n",
       "    </tr>\n",
       "    <tr>\n",
       "      <td>1</td>\n",
       "      <td>83</td>\n",
       "      <td>Addiction Medicine</td>\n",
       "      <td>95004</td>\n",
       "      <td>Injection of allergenic extracts into skin, ac...</td>\n",
       "      <td>O</td>\n",
       "      <td>6.360746</td>\n",
       "      <td>4.800754</td>\n",
       "      <td>5.395866</td>\n",
       "      <td>8.425672</td>\n",
       "      <td>1.295891e+09</td>\n",
       "      <td>39.0</td>\n",
       "      <td>39.0</td>\n",
       "      <td>1340.0</td>\n",
       "    </tr>\n",
       "    <tr>\n",
       "      <td>2</td>\n",
       "      <td>33</td>\n",
       "      <td>Addiction Medicine</td>\n",
       "      <td>82575</td>\n",
       "      <td>Creatinine clearance measurement to test for k...</td>\n",
       "      <td>O</td>\n",
       "      <td>12.970000</td>\n",
       "      <td>12.710000</td>\n",
       "      <td>12.710000</td>\n",
       "      <td>25.000000</td>\n",
       "      <td>1.942314e+09</td>\n",
       "      <td>957.0</td>\n",
       "      <td>41.0</td>\n",
       "      <td>957.0</td>\n",
       "    </tr>\n",
       "    <tr>\n",
       "      <td>3</td>\n",
       "      <td>156</td>\n",
       "      <td>Addiction Medicine</td>\n",
       "      <td>G0397</td>\n",
       "      <td>Alcohol and/or substance (other than tobacco) ...</td>\n",
       "      <td>O</td>\n",
       "      <td>69.620000</td>\n",
       "      <td>53.877956</td>\n",
       "      <td>55.292240</td>\n",
       "      <td>139.240000</td>\n",
       "      <td>1.124073e+09</td>\n",
       "      <td>817.0</td>\n",
       "      <td>283.0</td>\n",
       "      <td>817.0</td>\n",
       "    </tr>\n",
       "    <tr>\n",
       "      <td>4</td>\n",
       "      <td>80</td>\n",
       "      <td>Addiction Medicine</td>\n",
       "      <td>93798</td>\n",
       "      <td>Physician services for outpatient heart rehabi...</td>\n",
       "      <td>F</td>\n",
       "      <td>13.580000</td>\n",
       "      <td>10.207731</td>\n",
       "      <td>10.823529</td>\n",
       "      <td>100.000000</td>\n",
       "      <td>1.740270e+09</td>\n",
       "      <td>595.0</td>\n",
       "      <td>31.0</td>\n",
       "      <td>595.0</td>\n",
       "    </tr>\n",
       "    <tr>\n",
       "      <td>...</td>\n",
       "      <td>...</td>\n",
       "      <td>...</td>\n",
       "      <td>...</td>\n",
       "      <td>...</td>\n",
       "      <td>...</td>\n",
       "      <td>...</td>\n",
       "      <td>...</td>\n",
       "      <td>...</td>\n",
       "      <td>...</td>\n",
       "      <td>...</td>\n",
       "      <td>...</td>\n",
       "      <td>...</td>\n",
       "      <td>...</td>\n",
       "    </tr>\n",
       "    <tr>\n",
       "      <td>41343</td>\n",
       "      <td>55732</td>\n",
       "      <td>Vascular Surgery</td>\n",
       "      <td>62220</td>\n",
       "      <td>Creation of brain fluid drainage shunt</td>\n",
       "      <td>F</td>\n",
       "      <td>809.640625</td>\n",
       "      <td>634.763125</td>\n",
       "      <td>479.299375</td>\n",
       "      <td>4890.000000</td>\n",
       "      <td>1.316019e+09</td>\n",
       "      <td>16.0</td>\n",
       "      <td>15.0</td>\n",
       "      <td>16.0</td>\n",
       "    </tr>\n",
       "    <tr>\n",
       "      <td>41344</td>\n",
       "      <td>55766</td>\n",
       "      <td>Vascular Surgery</td>\n",
       "      <td>72052</td>\n",
       "      <td>X-ray of upper spine, 6 or more views</td>\n",
       "      <td>F</td>\n",
       "      <td>17.420000</td>\n",
       "      <td>13.660000</td>\n",
       "      <td>14.350000</td>\n",
       "      <td>57.062500</td>\n",
       "      <td>1.578745e+09</td>\n",
       "      <td>16.0</td>\n",
       "      <td>16.0</td>\n",
       "      <td>16.0</td>\n",
       "    </tr>\n",
       "    <tr>\n",
       "      <td>41345</td>\n",
       "      <td>55884</td>\n",
       "      <td>Vascular Surgery</td>\n",
       "      <td>76856</td>\n",
       "      <td>Ultrasound of pelvis</td>\n",
       "      <td>F</td>\n",
       "      <td>32.953750</td>\n",
       "      <td>24.213750</td>\n",
       "      <td>25.233750</td>\n",
       "      <td>110.312500</td>\n",
       "      <td>1.578745e+09</td>\n",
       "      <td>16.0</td>\n",
       "      <td>15.0</td>\n",
       "      <td>16.0</td>\n",
       "    </tr>\n",
       "    <tr>\n",
       "      <td>41346</td>\n",
       "      <td>55952</td>\n",
       "      <td>Vascular Surgery</td>\n",
       "      <td>90732</td>\n",
       "      <td>Vaccine for pneumococcal polysaccharide for in...</td>\n",
       "      <td>O</td>\n",
       "      <td>95.240625</td>\n",
       "      <td>93.335625</td>\n",
       "      <td>93.335625</td>\n",
       "      <td>95.937500</td>\n",
       "      <td>1.205874e+09</td>\n",
       "      <td>16.0</td>\n",
       "      <td>16.0</td>\n",
       "      <td>16.0</td>\n",
       "    </tr>\n",
       "    <tr>\n",
       "      <td>41347</td>\n",
       "      <td>55977</td>\n",
       "      <td>Vascular Surgery</td>\n",
       "      <td>93293</td>\n",
       "      <td>Telephonic evaluation of single, dual, or mult...</td>\n",
       "      <td>O</td>\n",
       "      <td>64.670000</td>\n",
       "      <td>42.808125</td>\n",
       "      <td>35.364375</td>\n",
       "      <td>224.400000</td>\n",
       "      <td>1.962436e+09</td>\n",
       "      <td>16.0</td>\n",
       "      <td>16.0</td>\n",
       "      <td>16.0</td>\n",
       "    </tr>\n",
       "  </tbody>\n",
       "</table>\n",
       "<p>41348 rows × 13 columns</p>\n",
       "</div>"
      ],
      "text/plain": [
       "       index       Provider Type HCPCS Code  \\\n",
       "0         71  Addiction Medicine      90847   \n",
       "1         83  Addiction Medicine      95004   \n",
       "2         33  Addiction Medicine      82575   \n",
       "3        156  Addiction Medicine      G0397   \n",
       "4         80  Addiction Medicine      93798   \n",
       "...      ...                 ...        ...   \n",
       "41343  55732    Vascular Surgery      62220   \n",
       "41344  55766    Vascular Surgery      72052   \n",
       "41345  55884    Vascular Surgery      76856   \n",
       "41346  55952    Vascular Surgery      90732   \n",
       "41347  55977    Vascular Surgery      93293   \n",
       "\n",
       "                                       HCPCS Description Place of Service  \\\n",
       "0      Family psychotherapy including patient, 50 min...                O   \n",
       "1      Injection of allergenic extracts into skin, ac...                O   \n",
       "2      Creatinine clearance measurement to test for k...                O   \n",
       "3      Alcohol and/or substance (other than tobacco) ...                O   \n",
       "4      Physician services for outpatient heart rehabi...                F   \n",
       "...                                                  ...              ...   \n",
       "41343             Creation of brain fluid drainage shunt                F   \n",
       "41344              X-ray of upper spine, 6 or more views                F   \n",
       "41345                               Ultrasound of pelvis                F   \n",
       "41346  Vaccine for pneumococcal polysaccharide for in...                O   \n",
       "41347  Telephonic evaluation of single, dual, or mult...                O   \n",
       "\n",
       "       Average Medicare Allowed Amount  Average Medicare Payment Amount  \\\n",
       "0                           102.760000                        75.680820   \n",
       "1                             6.360746                         4.800754   \n",
       "2                            12.970000                        12.710000   \n",
       "3                            69.620000                        53.877956   \n",
       "4                            13.580000                        10.207731   \n",
       "...                                ...                              ...   \n",
       "41343                       809.640625                       634.763125   \n",
       "41344                        17.420000                        13.660000   \n",
       "41345                        32.953750                        24.213750   \n",
       "41346                        95.240625                        93.335625   \n",
       "41347                        64.670000                        42.808125   \n",
       "\n",
       "       Average Medicare Standardized Amount  Average Submitted Charge Amount  \\\n",
       "0                                 80.779673                       120.013687   \n",
       "1                                  5.395866                         8.425672   \n",
       "2                                 12.710000                        25.000000   \n",
       "3                                 55.292240                       139.240000   \n",
       "4                                 10.823529                       100.000000   \n",
       "...                                     ...                              ...   \n",
       "41343                            479.299375                      4890.000000   \n",
       "41344                             14.350000                        57.062500   \n",
       "41345                             25.233750                       110.312500   \n",
       "41346                             93.335625                        95.937500   \n",
       "41347                             35.364375                       224.400000   \n",
       "\n",
       "       National Provider Identifier  \\\n",
       "0                      1.700878e+09   \n",
       "1                      1.295891e+09   \n",
       "2                      1.942314e+09   \n",
       "3                      1.124073e+09   \n",
       "4                      1.740270e+09   \n",
       "...                             ...   \n",
       "41343                  1.316019e+09   \n",
       "41344                  1.578745e+09   \n",
       "41345                  1.578745e+09   \n",
       "41346                  1.205874e+09   \n",
       "41347                  1.962436e+09   \n",
       "\n",
       "       Number of Distinct Medicare Beneficiary/Per Day Services  \\\n",
       "0                                                 1622.0          \n",
       "1                                                   39.0          \n",
       "2                                                  957.0          \n",
       "3                                                  817.0          \n",
       "4                                                  595.0          \n",
       "...                                                  ...          \n",
       "41343                                               16.0          \n",
       "41344                                               16.0          \n",
       "41345                                               16.0          \n",
       "41346                                               16.0          \n",
       "41347                                               16.0          \n",
       "\n",
       "       Number of Medicare Beneficiaries  Number of Services  \n",
       "0                                 128.0              1622.0  \n",
       "1                                  39.0              1340.0  \n",
       "2                                  41.0               957.0  \n",
       "3                                 283.0               817.0  \n",
       "4                                  31.0               595.0  \n",
       "...                                 ...                 ...  \n",
       "41343                              15.0                16.0  \n",
       "41344                              16.0                16.0  \n",
       "41345                              15.0                16.0  \n",
       "41346                              16.0                16.0  \n",
       "41347                              16.0                16.0  \n",
       "\n",
       "[41348 rows x 13 columns]"
      ]
     },
     "execution_count": 260,
     "metadata": {},
     "output_type": "execute_result"
    }
   ],
   "source": [
    "## Use to export to Tableau\n",
    "providers_final.reset_index()"
   ]
  },
  {
   "cell_type": "markdown",
   "metadata": {},
   "source": [
    "## Create dataframe for Office ('O') \"Place of Service\""
   ]
  },
  {
   "cell_type": "code",
   "execution_count": null,
   "metadata": {},
   "outputs": [],
   "source": [
    "prov_desc_df_office = prov_desc_df.loc[prov_desc_df['Place of Service'] == 'O']"
   ]
  },
  {
   "cell_type": "code",
   "execution_count": null,
   "metadata": {},
   "outputs": [],
   "source": [
    "##prov_desc_df_office = prov_desc_df.sort_values(by = 'Number of Services', ascending = False)"
   ]
  },
  {
   "cell_type": "code",
   "execution_count": null,
   "metadata": {},
   "outputs": [],
   "source": [
    "prov_desc_df_office.head()"
   ]
  },
  {
   "cell_type": "markdown",
   "metadata": {},
   "source": [
    "## Check there are no \"F\" (facility) 'Place of Service' entries."
   ]
  },
  {
   "cell_type": "code",
   "execution_count": null,
   "metadata": {},
   "outputs": [],
   "source": [
    "prov_desc_df_office['Place of Service'].value_counts()"
   ]
  },
  {
   "cell_type": "markdown",
   "metadata": {},
   "source": [
    "## Use a dictionary for-loop to sort HCPCS descriptions by Provider Type for Office Visits."
   ]
  },
  {
   "cell_type": "code",
   "execution_count": null,
   "metadata": {},
   "outputs": [],
   "source": [
    "# Initialize an empty dictionary for office visits: \n",
    "\n",
    "provider_type_dict_ofc = {} \n",
    "\n",
    "# Iterate over the file\n",
    "    \n",
    "    # Iterate over the column in DataFrame\n",
    "for key, val in prov_desc_df_office.iterrows():\n",
    "    if val['Provider Type'] not in provider_type_dict_ofc.keys():\n",
    "        provider_type_dict_ofc[val['Provider Type']]=[val['HCPCS Description']]\n",
    "        \n",
    "    elif (val['HCPCS Description'] not in provider_type_dict_ofc[val['Provider Type']]):\n",
    "        provider_type_dict_ofc[val['Provider Type']].append(val['HCPCS Description'])\n",
    "        \n",
    "    else:\n",
    "        continue\n",
    "\n",
    "\n",
    "# Print the populated dictionary\n",
    "print(provider_type_dict_ofc)"
   ]
  },
  {
   "cell_type": "markdown",
   "metadata": {},
   "source": [
    "## Turn provider type/descriptions dictionary into a dataframe"
   ]
  },
  {
   "cell_type": "code",
   "execution_count": null,
   "metadata": {},
   "outputs": [],
   "source": [
    "provider_type_subset_ofc = pd.DataFrame.from_dict(provider_type_dict_ofc, orient = \"index\")"
   ]
  },
  {
   "cell_type": "code",
   "execution_count": null,
   "metadata": {},
   "outputs": [],
   "source": [
    "pd.options.display.max_rows = 100\n",
    "provider_type_subset_ofc"
   ]
  },
  {
   "cell_type": "markdown",
   "metadata": {},
   "source": [
    "## Repeat the above steps to subset the \"F\" ('Facility') Services "
   ]
  },
  {
   "cell_type": "code",
   "execution_count": null,
   "metadata": {},
   "outputs": [],
   "source": [
    "prov_desc_df_facility = prov_desc_df.loc[prov_desc_df['Place of Service'] == 'F']"
   ]
  },
  {
   "cell_type": "code",
   "execution_count": null,
   "metadata": {},
   "outputs": [],
   "source": [
    "##prov_desc_df_facility = prov_desc_df.sort_values(by = 'Number of Services', ascending = False)"
   ]
  },
  {
   "cell_type": "code",
   "execution_count": null,
   "metadata": {},
   "outputs": [],
   "source": [
    "prov_desc_df_facility.head()"
   ]
  },
  {
   "cell_type": "code",
   "execution_count": null,
   "metadata": {},
   "outputs": [],
   "source": [
    "## confirm only 'Facility' entries\n",
    "\n",
    "prov_desc_df_facility['Place of Service'].value_counts()"
   ]
  },
  {
   "cell_type": "markdown",
   "metadata": {},
   "source": [
    "## Use a dictionary for-loop to sort HCPCS descriptions by Provider Type for Facilty Visits."
   ]
  },
  {
   "cell_type": "code",
   "execution_count": null,
   "metadata": {},
   "outputs": [],
   "source": [
    "# Initialize an empty dictionary for facility visits: \n",
    "\n",
    "provider_type_dict_fac = {} \n",
    "\n",
    "# Iterate over the file\n",
    "    \n",
    "    # Iterate over the column in DataFrame\n",
    "for key, val in prov_desc_df_facility.iterrows():\n",
    "    if val['Provider Type'] not in provider_type_dict_fac.keys():\n",
    "        provider_type_dict_fac[val['Provider Type']]=[val['HCPCS Description']]\n",
    "        \n",
    "    elif (val['HCPCS Description'] not in provider_type_dict_fac[val['Provider Type']]):\n",
    "        provider_type_dict_fac[val['Provider Type']].append(val['HCPCS Description'])\n",
    "        \n",
    "    else:\n",
    "        continue\n",
    "\n",
    "\n",
    "# Print the populated dictionary\n",
    "print(provider_type_dict_fac)"
   ]
  },
  {
   "cell_type": "code",
   "execution_count": null,
   "metadata": {},
   "outputs": [],
   "source": [
    "provider_type_subset_fac = pd.DataFrame.from_dict(provider_type_dict_fac, orient = \"index\")"
   ]
  },
  {
   "cell_type": "code",
   "execution_count": null,
   "metadata": {},
   "outputs": [],
   "source": [
    "pd.options.display.max_rows = 100\n",
    "provider_type_subset_fac"
   ]
  },
  {
   "cell_type": "markdown",
   "metadata": {},
   "source": [
    "## There is a discrepancy between number of codes and the descriptions..."
   ]
  },
  {
   "cell_type": "code",
   "execution_count": null,
   "metadata": {},
   "outputs": [],
   "source": [
    "prov_desc_df['HCPCS Description'].nunique()"
   ]
  },
  {
   "cell_type": "code",
   "execution_count": null,
   "metadata": {},
   "outputs": [],
   "source": [
    "prov_desc_df['HCPCS Code'].nunique()"
   ]
  },
  {
   "cell_type": "markdown",
   "metadata": {},
   "source": [
    "## Created csv files for export to Tableau to further analysis"
   ]
  },
  {
   "cell_type": "code",
   "execution_count": null,
   "metadata": {},
   "outputs": [],
   "source": [
    "## Main dataframe\n",
    "prov_desc_df_no_office.to_csv('prov_type_no_office_visit.csv')"
   ]
  },
  {
   "cell_type": "code",
   "execution_count": null,
   "metadata": {},
   "outputs": [],
   "source": [
    "## Office services subset\n",
    "provider_type_subset_ofc.to_csv('prov_type_sub_ofc.csv')"
   ]
  },
  {
   "cell_type": "code",
   "execution_count": null,
   "metadata": {},
   "outputs": [],
   "source": [
    "## Facility services subset\n",
    "provider_type_subset_fac.to_csv('prov_type_sub_fac.csv')"
   ]
  },
  {
   "cell_type": "code",
   "execution_count": null,
   "metadata": {},
   "outputs": [],
   "source": [
    "## Office visits dataframe\n",
    "prov_desc_df_office.to_csv('provider_type_office_service.csv')"
   ]
  },
  {
   "cell_type": "markdown",
   "metadata": {},
   "source": [
    "## Attempt to use plot(s) to visualize some parts of the data"
   ]
  },
  {
   "cell_type": "code",
   "execution_count": null,
   "metadata": {},
   "outputs": [],
   "source": [
    "fig, ax = plt.subplots(figsize=(8,8))\n",
    "plt.bar(prov_desc_df['Provider Type'], prov_desc_df['Place of Service'])\n",
    "plt.xlabel('Type')\n",
    "plt.ylabel('Place of Service')\n",
    "##plt.legend()\n",
    "##  .set_xticklabels(years)\n",
    "plt.title('Provider Types by Location', color = 'black');"
   ]
  },
  {
   "cell_type": "code",
   "execution_count": null,
   "metadata": {},
   "outputs": [],
   "source": []
  }
 ],
 "metadata": {
  "kernelspec": {
   "display_name": "Python 3",
   "language": "python",
   "name": "python3"
  },
  "language_info": {
   "codemirror_mode": {
    "name": "ipython",
    "version": 3
   },
   "file_extension": ".py",
   "mimetype": "text/x-python",
   "name": "python",
   "nbconvert_exporter": "python",
   "pygments_lexer": "ipython3",
   "version": "3.7.4"
  }
 },
 "nbformat": 4,
 "nbformat_minor": 2
}
