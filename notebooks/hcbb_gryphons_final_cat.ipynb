{
 "cells": [
  {
   "cell_type": "markdown",
   "metadata": {},
   "source": [
    "## HCBB gryphons_goal_3"
   ]
  },
  {
   "cell_type": "code",
   "execution_count": 1,
   "metadata": {},
   "outputs": [],
   "source": [
    "import pandas as pd\n",
    "import matplotlib.pyplot as plt\n",
    "import time\n",
    "\n",
    "%matplotlib inline"
   ]
  },
  {
   "cell_type": "markdown",
   "metadata": {},
   "source": [
    "## 1. What procedures could be reasonably associated with each individual Provider Type? (There are 88 types of Providers.)\n",
    "- Filters for Physician/Other Supplier --Do we need a \"credentials of the provider\" column?\n",
    "    - Entity Type = I\n",
    "    - Place of Service = F and/or O\n",
    "- What is the normal ‘basket’ of procedures for each Provider Type?"
   ]
  },
  {
   "cell_type": "markdown",
   "metadata": {},
   "source": [
    "## 2. Which procedure codes drive the most revenue for each Professional Provider Types?\n",
    "- Exclude office visits"
   ]
  },
  {
   "cell_type": "markdown",
   "metadata": {},
   "source": [
    "## Stretch: Create a process that predicts if an individual professional should be Provider Type ‘Orthopedic Surgery’ based on the procedure codes they have data for.\n",
    "- How often does this data-driven expected Provider Type of ‘Orthopedic Surgery’ differ from the listed Provider Type for given professional?"
   ]
  },
  {
   "cell_type": "markdown",
   "metadata": {},
   "source": [
    "## Import pkl data, from first project notebook"
   ]
  },
  {
   "cell_type": "code",
   "execution_count": 2,
   "metadata": {},
   "outputs": [],
   "source": [
    "providers_and_procedures = pd.read_pickle(\"../data/hcpcs_providers_clean.pkl\")"
   ]
  },
  {
   "cell_type": "markdown",
   "metadata": {},
   "source": [
    "## begin EDA of dataset"
   ]
  },
  {
   "cell_type": "code",
   "execution_count": null,
   "metadata": {},
   "outputs": [],
   "source": [
    "providers_and_procedures.info()"
   ]
  },
  {
   "cell_type": "code",
   "execution_count": 4,
   "metadata": {},
   "outputs": [
    {
     "data": {
      "text/html": [
       "<div>\n",
       "<style scoped>\n",
       "    .dataframe tbody tr th:only-of-type {\n",
       "        vertical-align: middle;\n",
       "    }\n",
       "\n",
       "    .dataframe tbody tr th {\n",
       "        vertical-align: top;\n",
       "    }\n",
       "\n",
       "    .dataframe thead th {\n",
       "        text-align: right;\n",
       "    }\n",
       "</style>\n",
       "<table border=\"1\" class=\"dataframe\">\n",
       "  <thead>\n",
       "    <tr style=\"text-align: right;\">\n",
       "      <th></th>\n",
       "      <th>National Provider Identifier</th>\n",
       "      <th>Last Name/Organization Name of the Provider</th>\n",
       "      <th>First Name of the Provider</th>\n",
       "      <th>Credentials of the Provider</th>\n",
       "      <th>Entity Type of the Provider</th>\n",
       "      <th>Street Address 1 of the Provider</th>\n",
       "      <th>City of the Provider</th>\n",
       "      <th>Zip Code of the Provider</th>\n",
       "      <th>State Code of the Provider</th>\n",
       "      <th>Country Code of the Provider</th>\n",
       "      <th>...</th>\n",
       "      <th>HCPCS Code</th>\n",
       "      <th>HCPCS Description</th>\n",
       "      <th>HCPCS Drug Indicator</th>\n",
       "      <th>Number of Services</th>\n",
       "      <th>Number of Medicare Beneficiaries</th>\n",
       "      <th>Number of Distinct Medicare Beneficiary/Per Day Services</th>\n",
       "      <th>Average Medicare Allowed Amount</th>\n",
       "      <th>Average Submitted Charge Amount</th>\n",
       "      <th>Average Medicare Payment Amount</th>\n",
       "      <th>Average Medicare Standardized Amount</th>\n",
       "    </tr>\n",
       "  </thead>\n",
       "  <tbody>\n",
       "    <tr>\n",
       "      <td>0</td>\n",
       "      <td>1003000126</td>\n",
       "      <td>ENKESHAFI</td>\n",
       "      <td>ARDALAN</td>\n",
       "      <td>M.D.</td>\n",
       "      <td>I</td>\n",
       "      <td>900 SETON DR</td>\n",
       "      <td>CUMBERLAND</td>\n",
       "      <td>215021854</td>\n",
       "      <td>MD</td>\n",
       "      <td>US</td>\n",
       "      <td>...</td>\n",
       "      <td>99217</td>\n",
       "      <td>Hospital observation care discharge</td>\n",
       "      <td>N</td>\n",
       "      <td>100.0</td>\n",
       "      <td>96</td>\n",
       "      <td>100</td>\n",
       "      <td>73.398800</td>\n",
       "      <td>325.780000</td>\n",
       "      <td>56.827200</td>\n",
       "      <td>57.492400</td>\n",
       "    </tr>\n",
       "    <tr>\n",
       "      <td>1</td>\n",
       "      <td>1003000126</td>\n",
       "      <td>ENKESHAFI</td>\n",
       "      <td>ARDALAN</td>\n",
       "      <td>M.D.</td>\n",
       "      <td>I</td>\n",
       "      <td>900 SETON DR</td>\n",
       "      <td>CUMBERLAND</td>\n",
       "      <td>215021854</td>\n",
       "      <td>MD</td>\n",
       "      <td>US</td>\n",
       "      <td>...</td>\n",
       "      <td>99218</td>\n",
       "      <td>Hospital observation care typically 30 minutes</td>\n",
       "      <td>N</td>\n",
       "      <td>26.0</td>\n",
       "      <td>25</td>\n",
       "      <td>26</td>\n",
       "      <td>100.080000</td>\n",
       "      <td>449.000000</td>\n",
       "      <td>78.460000</td>\n",
       "      <td>79.306154</td>\n",
       "    </tr>\n",
       "    <tr>\n",
       "      <td>2</td>\n",
       "      <td>1003000126</td>\n",
       "      <td>ENKESHAFI</td>\n",
       "      <td>ARDALAN</td>\n",
       "      <td>M.D.</td>\n",
       "      <td>I</td>\n",
       "      <td>900 SETON DR</td>\n",
       "      <td>CUMBERLAND</td>\n",
       "      <td>215021854</td>\n",
       "      <td>MD</td>\n",
       "      <td>US</td>\n",
       "      <td>...</td>\n",
       "      <td>99219</td>\n",
       "      <td>Hospital observation care typically 50 minutes</td>\n",
       "      <td>N</td>\n",
       "      <td>52.0</td>\n",
       "      <td>51</td>\n",
       "      <td>52</td>\n",
       "      <td>136.380000</td>\n",
       "      <td>614.000000</td>\n",
       "      <td>102.807692</td>\n",
       "      <td>103.895385</td>\n",
       "    </tr>\n",
       "    <tr>\n",
       "      <td>3</td>\n",
       "      <td>1003000126</td>\n",
       "      <td>ENKESHAFI</td>\n",
       "      <td>ARDALAN</td>\n",
       "      <td>M.D.</td>\n",
       "      <td>I</td>\n",
       "      <td>900 SETON DR</td>\n",
       "      <td>CUMBERLAND</td>\n",
       "      <td>215021854</td>\n",
       "      <td>MD</td>\n",
       "      <td>US</td>\n",
       "      <td>...</td>\n",
       "      <td>99220</td>\n",
       "      <td>Hospital observation care typically 70 minutes...</td>\n",
       "      <td>N</td>\n",
       "      <td>59.0</td>\n",
       "      <td>59</td>\n",
       "      <td>59</td>\n",
       "      <td>190.363729</td>\n",
       "      <td>755.932203</td>\n",
       "      <td>141.293559</td>\n",
       "      <td>142.865763</td>\n",
       "    </tr>\n",
       "    <tr>\n",
       "      <td>4</td>\n",
       "      <td>1003000126</td>\n",
       "      <td>ENKESHAFI</td>\n",
       "      <td>ARDALAN</td>\n",
       "      <td>M.D.</td>\n",
       "      <td>I</td>\n",
       "      <td>900 SETON DR</td>\n",
       "      <td>CUMBERLAND</td>\n",
       "      <td>215021854</td>\n",
       "      <td>MD</td>\n",
       "      <td>US</td>\n",
       "      <td>...</td>\n",
       "      <td>99221</td>\n",
       "      <td>Initial hospital inpatient care, typically 30 ...</td>\n",
       "      <td>N</td>\n",
       "      <td>16.0</td>\n",
       "      <td>16</td>\n",
       "      <td>16</td>\n",
       "      <td>101.680000</td>\n",
       "      <td>462.812500</td>\n",
       "      <td>79.710000</td>\n",
       "      <td>80.750000</td>\n",
       "    </tr>\n",
       "  </tbody>\n",
       "</table>\n",
       "<p>5 rows × 23 columns</p>\n",
       "</div>"
      ],
      "text/plain": [
       "   National Provider Identifier Last Name/Organization Name of the Provider  \\\n",
       "0                    1003000126                                   ENKESHAFI   \n",
       "1                    1003000126                                   ENKESHAFI   \n",
       "2                    1003000126                                   ENKESHAFI   \n",
       "3                    1003000126                                   ENKESHAFI   \n",
       "4                    1003000126                                   ENKESHAFI   \n",
       "\n",
       "  First Name of the Provider Credentials of the Provider  \\\n",
       "0                    ARDALAN                        M.D.   \n",
       "1                    ARDALAN                        M.D.   \n",
       "2                    ARDALAN                        M.D.   \n",
       "3                    ARDALAN                        M.D.   \n",
       "4                    ARDALAN                        M.D.   \n",
       "\n",
       "  Entity Type of the Provider Street Address 1 of the Provider  \\\n",
       "0                           I                     900 SETON DR   \n",
       "1                           I                     900 SETON DR   \n",
       "2                           I                     900 SETON DR   \n",
       "3                           I                     900 SETON DR   \n",
       "4                           I                     900 SETON DR   \n",
       "\n",
       "  City of the Provider Zip Code of the Provider State Code of the Provider  \\\n",
       "0           CUMBERLAND                215021854                         MD   \n",
       "1           CUMBERLAND                215021854                         MD   \n",
       "2           CUMBERLAND                215021854                         MD   \n",
       "3           CUMBERLAND                215021854                         MD   \n",
       "4           CUMBERLAND                215021854                         MD   \n",
       "\n",
       "  Country Code of the Provider  ... HCPCS Code  \\\n",
       "0                           US  ...      99217   \n",
       "1                           US  ...      99218   \n",
       "2                           US  ...      99219   \n",
       "3                           US  ...      99220   \n",
       "4                           US  ...      99221   \n",
       "\n",
       "                                   HCPCS Description HCPCS Drug Indicator  \\\n",
       "0                Hospital observation care discharge                    N   \n",
       "1     Hospital observation care typically 30 minutes                    N   \n",
       "2     Hospital observation care typically 50 minutes                    N   \n",
       "3  Hospital observation care typically 70 minutes...                    N   \n",
       "4  Initial hospital inpatient care, typically 30 ...                    N   \n",
       "\n",
       "  Number of Services Number of Medicare Beneficiaries  \\\n",
       "0              100.0                               96   \n",
       "1               26.0                               25   \n",
       "2               52.0                               51   \n",
       "3               59.0                               59   \n",
       "4               16.0                               16   \n",
       "\n",
       "  Number of Distinct Medicare Beneficiary/Per Day Services  \\\n",
       "0                                                100         \n",
       "1                                                 26         \n",
       "2                                                 52         \n",
       "3                                                 59         \n",
       "4                                                 16         \n",
       "\n",
       "   Average Medicare Allowed Amount  Average Submitted Charge Amount  \\\n",
       "0                        73.398800                       325.780000   \n",
       "1                       100.080000                       449.000000   \n",
       "2                       136.380000                       614.000000   \n",
       "3                       190.363729                       755.932203   \n",
       "4                       101.680000                       462.812500   \n",
       "\n",
       "   Average Medicare Payment Amount  Average Medicare Standardized Amount  \n",
       "0                        56.827200                             57.492400  \n",
       "1                        78.460000                             79.306154  \n",
       "2                       102.807692                            103.895385  \n",
       "3                       141.293559                            142.865763  \n",
       "4                        79.710000                             80.750000  \n",
       "\n",
       "[5 rows x 23 columns]"
      ]
     },
     "execution_count": 4,
     "metadata": {},
     "output_type": "execute_result"
    }
   ],
   "source": [
    "providers_and_procedures.head()"
   ]
  },
  {
   "cell_type": "code",
   "execution_count": 5,
   "metadata": {},
   "outputs": [
    {
     "data": {
      "text/plain": [
       "O    5740315\n",
       "F    3675810\n",
       "Name: Place of Service, dtype: int64"
      ]
     },
     "execution_count": 5,
     "metadata": {},
     "output_type": "execute_result"
    }
   ],
   "source": [
    "providers_and_procedures['Place of Service'].value_counts()"
   ]
  },
  {
   "cell_type": "code",
   "execution_count": null,
   "metadata": {},
   "outputs": [],
   "source": [
    "providers_and_procedures['Provider Type'].unique()"
   ]
  },
  {
   "cell_type": "code",
   "execution_count": null,
   "metadata": {},
   "outputs": [],
   "source": [
    "providers_and_procedures['HCPCS Description'].value_counts()"
   ]
  },
  {
   "cell_type": "markdown",
   "metadata": {},
   "source": [
    "## Begin work on Question 1. \n",
    "- create pivot table for provider types and HCPCS descriptions"
   ]
  },
  {
   "cell_type": "code",
   "execution_count": 8,
   "metadata": {},
   "outputs": [],
   "source": [
    "providers_pivot_table = pd.pivot_table(providers_and_procedures, index = ['Provider Type', 'HCPCS Code', \n",
    "                                                                          'HCPCS Description', 'Place of Service'])"
   ]
  },
  {
   "cell_type": "code",
   "execution_count": null,
   "metadata": {},
   "outputs": [],
   "source": [
    "providers_pivot_table.head(75)"
   ]
  },
  {
   "cell_type": "code",
   "execution_count": 10,
   "metadata": {},
   "outputs": [
    {
     "data": {
      "text/plain": [
       "(56209, 8)"
      ]
     },
     "execution_count": 10,
     "metadata": {},
     "output_type": "execute_result"
    }
   ],
   "source": [
    "providers_pivot_table.shape"
   ]
  },
  {
   "cell_type": "markdown",
   "metadata": {},
   "source": [
    "## Attempt subset of one Provider Type - 'Addiction Medicine'"
   ]
  },
  {
   "cell_type": "code",
   "execution_count": 11,
   "metadata": {},
   "outputs": [],
   "source": [
    "addict_med_type = providers_and_procedures.loc[providers_and_procedures['Provider Type'] == 'Addiction Medicine']"
   ]
  },
  {
   "cell_type": "code",
   "execution_count": 12,
   "metadata": {},
   "outputs": [
    {
     "data": {
      "text/plain": [
       "(803, 23)"
      ]
     },
     "execution_count": 12,
     "metadata": {},
     "output_type": "execute_result"
    }
   ],
   "source": [
    "addict_med_type.shape"
   ]
  },
  {
   "cell_type": "code",
   "execution_count": null,
   "metadata": {},
   "outputs": [],
   "source": [
    "addict_med_type.head()"
   ]
  },
  {
   "cell_type": "code",
   "execution_count": 14,
   "metadata": {},
   "outputs": [],
   "source": [
    "addiction_pivot_table = pd.pivot_table(addict_med_type, index = ['Provider Type', 'HCPCS Description'])"
   ]
  },
  {
   "cell_type": "code",
   "execution_count": 15,
   "metadata": {},
   "outputs": [
    {
     "data": {
      "text/plain": [
       "(139, 8)"
      ]
     },
     "execution_count": 15,
     "metadata": {},
     "output_type": "execute_result"
    }
   ],
   "source": [
    "addiction_pivot_table.shape"
   ]
  },
  {
   "cell_type": "markdown",
   "metadata": {},
   "source": [
    "## Turn full pivot table into a dataframe"
   ]
  },
  {
   "cell_type": "code",
   "execution_count": null,
   "metadata": {},
   "outputs": [],
   "source": [
    "## df = table.reset_index() \n",
    "prov_desc_df = providers_pivot_table.reset_index()\n",
    "prov_desc_df.head(5)"
   ]
  },
  {
   "cell_type": "code",
   "execution_count": 17,
   "metadata": {},
   "outputs": [
    {
     "data": {
      "text/plain": [
       "Vaccine for influenza for administration into muscle, 0.5 ml dosage                                          215\n",
       "Ultrasound study of arteries of both arms and legs                                                           159\n",
       "Injections of lower or sacral spine facet joint using imaging guidance                                       154\n",
       "Established patient office or other outpatient, visit typically 25 minutes                                   144\n",
       "Established patient office or other outpatient visit, typically 15 minutes                                   144\n",
       "                                                                                                            ... \n",
       "Destruction of 1 or more growths on liver, open procedure                                                      1\n",
       "Insertion of hardware to stabilize broken thigh bone or separated growth plate, accessed through the skin      1\n",
       "Closed treatment of thigh bone fracture with manipulation                                                      1\n",
       "Removal of skin tags                                                                                           1\n",
       "Measurement of immune substance (oligoclonal bands)                                                            1\n",
       "Name: HCPCS Description, Length: 5171, dtype: int64"
      ]
     },
     "execution_count": 17,
     "metadata": {},
     "output_type": "execute_result"
    }
   ],
   "source": [
    "prov_desc_df['HCPCS Description'].value_counts()"
   ]
  },
  {
   "cell_type": "markdown",
   "metadata": {},
   "source": [
    "## Delete HCPCS codes for office visits"
   ]
  },
  {
   "cell_type": "code",
   "execution_count": 18,
   "metadata": {},
   "outputs": [],
   "source": [
    "prov_desc_df_no_office = prov_desc_df.loc[~prov_desc_df['HCPCS Code'].str.contains('992..|993..', regex=True)]"
   ]
  },
  {
   "cell_type": "code",
   "execution_count": 19,
   "metadata": {},
   "outputs": [
    {
     "data": {
      "text/plain": [
       "(51680, 12)"
      ]
     },
     "execution_count": 19,
     "metadata": {},
     "output_type": "execute_result"
    }
   ],
   "source": [
    "prov_desc_df_no_office.shape"
   ]
  },
  {
   "cell_type": "code",
   "execution_count": null,
   "metadata": {},
   "outputs": [],
   "source": [
    "prov_desc_df_no_office"
   ]
  },
  {
   "cell_type": "markdown",
   "metadata": {},
   "source": [
    "## Calculate percentage of the services provided for each type."
   ]
  },
  {
   "cell_type": "code",
   "execution_count": 21,
   "metadata": {},
   "outputs": [],
   "source": [
    "## sort the provider types with the number of services ranked \n",
    "prov_desc_df_sorted = prov_desc_df_no_office.sort_values(by = ['Provider Type', 'Number of Services'], ascending = (True, False))"
   ]
  },
  {
   "cell_type": "code",
   "execution_count": null,
   "metadata": {},
   "outputs": [],
   "source": [
    "prov_desc_df_sorted"
   ]
  },
  {
   "cell_type": "code",
   "execution_count": 23,
   "metadata": {},
   "outputs": [],
   "source": [
    "## makes a list of datframes for each single provider type with its hcpcs codes from the original df\n",
    "provider_type_df_list = list(prov_desc_df_sorted.groupby(['Provider Type'])) "
   ]
  },
  {
   "cell_type": "code",
   "execution_count": 24,
   "metadata": {},
   "outputs": [
    {
     "data": {
      "text/plain": [
       "87"
      ]
     },
     "execution_count": 24,
     "metadata": {},
     "output_type": "execute_result"
    }
   ],
   "source": [
    "len(provider_type_df_list) ## check for 88 provider types--one is lost from dropping office visits"
   ]
  },
  {
   "cell_type": "code",
   "execution_count": null,
   "metadata": {},
   "outputs": [],
   "source": [
    "provider_type_df_list[0]"
   ]
  },
  {
   "cell_type": "code",
   "execution_count": 26,
   "metadata": {},
   "outputs": [],
   "source": [
    "## iterate over list\n",
    "provider_threshold_list = []\n",
    "\n",
    "for group, provider in provider_type_df_list:\n",
    "    total_hcpcs = len(provider) ## number of hcpcs for each provider\n",
    "    keep_rows = round(total_hcpcs * .80) ## can change this number to keep desired percentage\n",
    "    keep_provider = provider.head(keep_rows)\n",
    "    provider_threshold_list.append(keep_provider)\n",
    "\n",
    "providers_final = pd.concat(provider_threshold_list)"
   ]
  },
  {
   "cell_type": "code",
   "execution_count": 27,
   "metadata": {},
   "outputs": [
    {
     "data": {
      "text/plain": [
       "87"
      ]
     },
     "execution_count": 27,
     "metadata": {},
     "output_type": "execute_result"
    }
   ],
   "source": [
    "len(provider_threshold_list)"
   ]
  },
  {
   "cell_type": "code",
   "execution_count": 28,
   "metadata": {},
   "outputs": [],
   "source": [
    "## Use to export to Tableau\n",
    "providers_final_df = providers_final.reset_index()"
   ]
  },
  {
   "cell_type": "code",
   "execution_count": 52,
   "metadata": {},
   "outputs": [
    {
     "data": {
      "text/html": [
       "<div>\n",
       "<style scoped>\n",
       "    .dataframe tbody tr th:only-of-type {\n",
       "        vertical-align: middle;\n",
       "    }\n",
       "\n",
       "    .dataframe tbody tr th {\n",
       "        vertical-align: top;\n",
       "    }\n",
       "\n",
       "    .dataframe thead th {\n",
       "        text-align: right;\n",
       "    }\n",
       "</style>\n",
       "<table border=\"1\" class=\"dataframe\">\n",
       "  <thead>\n",
       "    <tr style=\"text-align: right;\">\n",
       "      <th></th>\n",
       "      <th>index</th>\n",
       "      <th>Provider Type</th>\n",
       "      <th>HCPCS Code</th>\n",
       "      <th>HCPCS Description</th>\n",
       "      <th>Place of Service</th>\n",
       "      <th>Average Medicare Allowed Amount</th>\n",
       "      <th>Average Medicare Payment Amount</th>\n",
       "      <th>Average Medicare Standardized Amount</th>\n",
       "      <th>Average Submitted Charge Amount</th>\n",
       "      <th>National Provider Identifier</th>\n",
       "      <th>Number of Distinct Medicare Beneficiary/Per Day Services</th>\n",
       "      <th>Number of Medicare Beneficiaries</th>\n",
       "      <th>Number of Services</th>\n",
       "    </tr>\n",
       "  </thead>\n",
       "  <tbody>\n",
       "    <tr>\n",
       "      <td>0</td>\n",
       "      <td>71</td>\n",
       "      <td>Addiction Medicine</td>\n",
       "      <td>90847</td>\n",
       "      <td>Family psychotherapy including patient, 50 min...</td>\n",
       "      <td>O</td>\n",
       "      <td>102.760000</td>\n",
       "      <td>75.680820</td>\n",
       "      <td>80.779673</td>\n",
       "      <td>120.013687</td>\n",
       "      <td>1.700878e+09</td>\n",
       "      <td>1622.0</td>\n",
       "      <td>128.0</td>\n",
       "      <td>1622.0</td>\n",
       "    </tr>\n",
       "    <tr>\n",
       "      <td>1</td>\n",
       "      <td>83</td>\n",
       "      <td>Addiction Medicine</td>\n",
       "      <td>95004</td>\n",
       "      <td>Injection of allergenic extracts into skin, ac...</td>\n",
       "      <td>O</td>\n",
       "      <td>6.360746</td>\n",
       "      <td>4.800754</td>\n",
       "      <td>5.395866</td>\n",
       "      <td>8.425672</td>\n",
       "      <td>1.295891e+09</td>\n",
       "      <td>39.0</td>\n",
       "      <td>39.0</td>\n",
       "      <td>1340.0</td>\n",
       "    </tr>\n",
       "    <tr>\n",
       "      <td>2</td>\n",
       "      <td>33</td>\n",
       "      <td>Addiction Medicine</td>\n",
       "      <td>82575</td>\n",
       "      <td>Creatinine clearance measurement to test for k...</td>\n",
       "      <td>O</td>\n",
       "      <td>12.970000</td>\n",
       "      <td>12.710000</td>\n",
       "      <td>12.710000</td>\n",
       "      <td>25.000000</td>\n",
       "      <td>1.942314e+09</td>\n",
       "      <td>957.0</td>\n",
       "      <td>41.0</td>\n",
       "      <td>957.0</td>\n",
       "    </tr>\n",
       "    <tr>\n",
       "      <td>3</td>\n",
       "      <td>156</td>\n",
       "      <td>Addiction Medicine</td>\n",
       "      <td>G0397</td>\n",
       "      <td>Alcohol and/or substance (other than tobacco) ...</td>\n",
       "      <td>O</td>\n",
       "      <td>69.620000</td>\n",
       "      <td>53.877956</td>\n",
       "      <td>55.292240</td>\n",
       "      <td>139.240000</td>\n",
       "      <td>1.124073e+09</td>\n",
       "      <td>817.0</td>\n",
       "      <td>283.0</td>\n",
       "      <td>817.0</td>\n",
       "    </tr>\n",
       "    <tr>\n",
       "      <td>4</td>\n",
       "      <td>80</td>\n",
       "      <td>Addiction Medicine</td>\n",
       "      <td>93798</td>\n",
       "      <td>Physician services for outpatient heart rehabi...</td>\n",
       "      <td>F</td>\n",
       "      <td>13.580000</td>\n",
       "      <td>10.207731</td>\n",
       "      <td>10.823529</td>\n",
       "      <td>100.000000</td>\n",
       "      <td>1.740270e+09</td>\n",
       "      <td>595.0</td>\n",
       "      <td>31.0</td>\n",
       "      <td>595.0</td>\n",
       "    </tr>\n",
       "  </tbody>\n",
       "</table>\n",
       "</div>"
      ],
      "text/plain": [
       "   index       Provider Type HCPCS Code  \\\n",
       "0     71  Addiction Medicine      90847   \n",
       "1     83  Addiction Medicine      95004   \n",
       "2     33  Addiction Medicine      82575   \n",
       "3    156  Addiction Medicine      G0397   \n",
       "4     80  Addiction Medicine      93798   \n",
       "\n",
       "                                   HCPCS Description Place of Service  \\\n",
       "0  Family psychotherapy including patient, 50 min...                O   \n",
       "1  Injection of allergenic extracts into skin, ac...                O   \n",
       "2  Creatinine clearance measurement to test for k...                O   \n",
       "3  Alcohol and/or substance (other than tobacco) ...                O   \n",
       "4  Physician services for outpatient heart rehabi...                F   \n",
       "\n",
       "   Average Medicare Allowed Amount  Average Medicare Payment Amount  \\\n",
       "0                       102.760000                        75.680820   \n",
       "1                         6.360746                         4.800754   \n",
       "2                        12.970000                        12.710000   \n",
       "3                        69.620000                        53.877956   \n",
       "4                        13.580000                        10.207731   \n",
       "\n",
       "   Average Medicare Standardized Amount  Average Submitted Charge Amount  \\\n",
       "0                             80.779673                       120.013687   \n",
       "1                              5.395866                         8.425672   \n",
       "2                             12.710000                        25.000000   \n",
       "3                             55.292240                       139.240000   \n",
       "4                             10.823529                       100.000000   \n",
       "\n",
       "   National Provider Identifier  \\\n",
       "0                  1.700878e+09   \n",
       "1                  1.295891e+09   \n",
       "2                  1.942314e+09   \n",
       "3                  1.124073e+09   \n",
       "4                  1.740270e+09   \n",
       "\n",
       "   Number of Distinct Medicare Beneficiary/Per Day Services  \\\n",
       "0                                             1622.0          \n",
       "1                                               39.0          \n",
       "2                                              957.0          \n",
       "3                                              817.0          \n",
       "4                                              595.0          \n",
       "\n",
       "   Number of Medicare Beneficiaries  Number of Services  \n",
       "0                             128.0              1622.0  \n",
       "1                              39.0              1340.0  \n",
       "2                              41.0               957.0  \n",
       "3                             283.0               817.0  \n",
       "4                              31.0               595.0  "
      ]
     },
     "execution_count": 52,
     "metadata": {},
     "output_type": "execute_result"
    }
   ],
   "source": [
    "## Drop extra index column...\n",
    "providers_final_df.drop(columns = ['index']) ##this did not remove extra 'index' column\n",
    "providers_final_df.head()"
   ]
  },
  {
   "cell_type": "code",
   "execution_count": 30,
   "metadata": {},
   "outputs": [],
   "source": [
    "## Create dataframe for Office ('O') \"Place of Service\""
   ]
  },
  {
   "cell_type": "code",
   "execution_count": 31,
   "metadata": {},
   "outputs": [],
   "source": [
    "prov_desc_df_office = prov_desc_df.loc[prov_desc_df['Place of Service'] == 'O']"
   ]
  },
  {
   "cell_type": "code",
   "execution_count": 32,
   "metadata": {},
   "outputs": [],
   "source": [
    "##prov_desc_df_office = prov_desc_df.sort_values(by = 'Number of Services', ascending = False)"
   ]
  },
  {
   "cell_type": "code",
   "execution_count": null,
   "metadata": {},
   "outputs": [],
   "source": [
    "prov_desc_df_office.head()"
   ]
  },
  {
   "cell_type": "markdown",
   "metadata": {},
   "source": [
    "## Check there are no \"F\" (facility) 'Place of Service' entries."
   ]
  },
  {
   "cell_type": "code",
   "execution_count": 34,
   "metadata": {},
   "outputs": [
    {
     "data": {
      "text/plain": [
       "O    35001\n",
       "Name: Place of Service, dtype: int64"
      ]
     },
     "execution_count": 34,
     "metadata": {},
     "output_type": "execute_result"
    }
   ],
   "source": [
    "prov_desc_df_office['Place of Service'].value_counts()"
   ]
  },
  {
   "cell_type": "markdown",
   "metadata": {},
   "source": [
    "## Use a dictionary for-loop to sort HCPCS descriptions by Provider Type for Office Visits."
   ]
  },
  {
   "cell_type": "code",
   "execution_count": null,
   "metadata": {},
   "outputs": [],
   "source": [
    "# Initialize an empty dictionary for office visits: \n",
    "\n",
    "provider_type_dict_ofc = {} \n",
    "\n",
    "# Iterate over the file\n",
    "    \n",
    "    # Iterate over the column in DataFrame\n",
    "for key, val in prov_desc_df_office.iterrows():\n",
    "    if val['Provider Type'] not in provider_type_dict_ofc.keys():\n",
    "        provider_type_dict_ofc[val['Provider Type']]=[val['HCPCS Description']]\n",
    "        \n",
    "    elif (val['HCPCS Description'] not in provider_type_dict_ofc[val['Provider Type']]):\n",
    "        provider_type_dict_ofc[val['Provider Type']].append(val['HCPCS Description'])\n",
    "        \n",
    "    else:\n",
    "        continue\n",
    "\n",
    "\n",
    "# Print the populated dictionary\n",
    "print(provider_type_dict_ofc)"
   ]
  },
  {
   "cell_type": "markdown",
   "metadata": {},
   "source": [
    "## Turn provider type/descriptions dictionary into a dataframe"
   ]
  },
  {
   "cell_type": "code",
   "execution_count": 36,
   "metadata": {},
   "outputs": [],
   "source": [
    "provider_type_subset_ofc = pd.DataFrame.from_dict(provider_type_dict_ofc, orient = \"index\")"
   ]
  },
  {
   "cell_type": "code",
   "execution_count": null,
   "metadata": {},
   "outputs": [],
   "source": [
    "pd.options.display.max_rows = 100\n",
    "provider_type_subset_ofc"
   ]
  },
  {
   "cell_type": "markdown",
   "metadata": {},
   "source": [
    "## Repeat the above steps to subset the \"F\" ('Facility') Services "
   ]
  },
  {
   "cell_type": "code",
   "execution_count": 38,
   "metadata": {},
   "outputs": [],
   "source": [
    "prov_desc_df_facility = prov_desc_df.loc[prov_desc_df['Place of Service'] == 'F']"
   ]
  },
  {
   "cell_type": "code",
   "execution_count": 39,
   "metadata": {},
   "outputs": [],
   "source": [
    "##prov_desc_df_facility = prov_desc_df.sort_values(by = 'Number of Services', ascending = False)"
   ]
  },
  {
   "cell_type": "code",
   "execution_count": 40,
   "metadata": {},
   "outputs": [
    {
     "data": {
      "text/html": [
       "<div>\n",
       "<style scoped>\n",
       "    .dataframe tbody tr th:only-of-type {\n",
       "        vertical-align: middle;\n",
       "    }\n",
       "\n",
       "    .dataframe tbody tr th {\n",
       "        vertical-align: top;\n",
       "    }\n",
       "\n",
       "    .dataframe thead th {\n",
       "        text-align: right;\n",
       "    }\n",
       "</style>\n",
       "<table border=\"1\" class=\"dataframe\">\n",
       "  <thead>\n",
       "    <tr style=\"text-align: right;\">\n",
       "      <th></th>\n",
       "      <th>Provider Type</th>\n",
       "      <th>HCPCS Code</th>\n",
       "      <th>HCPCS Description</th>\n",
       "      <th>Place of Service</th>\n",
       "      <th>Average Medicare Allowed Amount</th>\n",
       "      <th>Average Medicare Payment Amount</th>\n",
       "      <th>Average Medicare Standardized Amount</th>\n",
       "      <th>Average Submitted Charge Amount</th>\n",
       "      <th>National Provider Identifier</th>\n",
       "      <th>Number of Distinct Medicare Beneficiary/Per Day Services</th>\n",
       "      <th>Number of Medicare Beneficiaries</th>\n",
       "      <th>Number of Services</th>\n",
       "    </tr>\n",
       "  </thead>\n",
       "  <tbody>\n",
       "    <tr>\n",
       "      <td>1</td>\n",
       "      <td>Addiction Medicine</td>\n",
       "      <td>36556</td>\n",
       "      <td>Insertion of central venous catheter for infus...</td>\n",
       "      <td>F</td>\n",
       "      <td>112.510000</td>\n",
       "      <td>88.210000</td>\n",
       "      <td>97.910000</td>\n",
       "      <td>129.39</td>\n",
       "      <td>1.770876e+09</td>\n",
       "      <td>11.0</td>\n",
       "      <td>11.0</td>\n",
       "      <td>12.0</td>\n",
       "    </tr>\n",
       "    <tr>\n",
       "      <td>2</td>\n",
       "      <td>Addiction Medicine</td>\n",
       "      <td>36620</td>\n",
       "      <td>Insertion of arterial catheter for blood sampl...</td>\n",
       "      <td>F</td>\n",
       "      <td>47.990000</td>\n",
       "      <td>37.620000</td>\n",
       "      <td>41.360000</td>\n",
       "      <td>55.19</td>\n",
       "      <td>1.770876e+09</td>\n",
       "      <td>13.0</td>\n",
       "      <td>12.0</td>\n",
       "      <td>13.0</td>\n",
       "    </tr>\n",
       "    <tr>\n",
       "      <td>3</td>\n",
       "      <td>Addiction Medicine</td>\n",
       "      <td>70100</td>\n",
       "      <td>X-ray of mandible, less than 4 views</td>\n",
       "      <td>F</td>\n",
       "      <td>9.078696</td>\n",
       "      <td>6.833478</td>\n",
       "      <td>7.167391</td>\n",
       "      <td>35.00</td>\n",
       "      <td>1.306066e+09</td>\n",
       "      <td>46.0</td>\n",
       "      <td>39.0</td>\n",
       "      <td>46.0</td>\n",
       "    </tr>\n",
       "    <tr>\n",
       "      <td>5</td>\n",
       "      <td>Addiction Medicine</td>\n",
       "      <td>70310</td>\n",
       "      <td>X-ray of teeth, less than full mouth</td>\n",
       "      <td>F</td>\n",
       "      <td>8.043478</td>\n",
       "      <td>6.039783</td>\n",
       "      <td>6.335000</td>\n",
       "      <td>20.00</td>\n",
       "      <td>1.306066e+09</td>\n",
       "      <td>46.0</td>\n",
       "      <td>39.0</td>\n",
       "      <td>46.0</td>\n",
       "    </tr>\n",
       "    <tr>\n",
       "      <td>7</td>\n",
       "      <td>Addiction Medicine</td>\n",
       "      <td>70371</td>\n",
       "      <td>Imaging of voice box with speech evaluation</td>\n",
       "      <td>F</td>\n",
       "      <td>41.515217</td>\n",
       "      <td>31.208478</td>\n",
       "      <td>31.936739</td>\n",
       "      <td>70.00</td>\n",
       "      <td>1.306066e+09</td>\n",
       "      <td>46.0</td>\n",
       "      <td>39.0</td>\n",
       "      <td>46.0</td>\n",
       "    </tr>\n",
       "  </tbody>\n",
       "</table>\n",
       "</div>"
      ],
      "text/plain": [
       "        Provider Type HCPCS Code  \\\n",
       "1  Addiction Medicine      36556   \n",
       "2  Addiction Medicine      36620   \n",
       "3  Addiction Medicine      70100   \n",
       "5  Addiction Medicine      70310   \n",
       "7  Addiction Medicine      70371   \n",
       "\n",
       "                                   HCPCS Description Place of Service  \\\n",
       "1  Insertion of central venous catheter for infus...                F   \n",
       "2  Insertion of arterial catheter for blood sampl...                F   \n",
       "3               X-ray of mandible, less than 4 views                F   \n",
       "5               X-ray of teeth, less than full mouth                F   \n",
       "7        Imaging of voice box with speech evaluation                F   \n",
       "\n",
       "   Average Medicare Allowed Amount  Average Medicare Payment Amount  \\\n",
       "1                       112.510000                        88.210000   \n",
       "2                        47.990000                        37.620000   \n",
       "3                         9.078696                         6.833478   \n",
       "5                         8.043478                         6.039783   \n",
       "7                        41.515217                        31.208478   \n",
       "\n",
       "   Average Medicare Standardized Amount  Average Submitted Charge Amount  \\\n",
       "1                             97.910000                           129.39   \n",
       "2                             41.360000                            55.19   \n",
       "3                              7.167391                            35.00   \n",
       "5                              6.335000                            20.00   \n",
       "7                             31.936739                            70.00   \n",
       "\n",
       "   National Provider Identifier  \\\n",
       "1                  1.770876e+09   \n",
       "2                  1.770876e+09   \n",
       "3                  1.306066e+09   \n",
       "5                  1.306066e+09   \n",
       "7                  1.306066e+09   \n",
       "\n",
       "   Number of Distinct Medicare Beneficiary/Per Day Services  \\\n",
       "1                                               11.0          \n",
       "2                                               13.0          \n",
       "3                                               46.0          \n",
       "5                                               46.0          \n",
       "7                                               46.0          \n",
       "\n",
       "   Number of Medicare Beneficiaries  Number of Services  \n",
       "1                              11.0                12.0  \n",
       "2                              12.0                13.0  \n",
       "3                              39.0                46.0  \n",
       "5                              39.0                46.0  \n",
       "7                              39.0                46.0  "
      ]
     },
     "execution_count": 40,
     "metadata": {},
     "output_type": "execute_result"
    }
   ],
   "source": [
    "prov_desc_df_facility.head()"
   ]
  },
  {
   "cell_type": "code",
   "execution_count": 41,
   "metadata": {},
   "outputs": [
    {
     "data": {
      "text/plain": [
       "F    21208\n",
       "Name: Place of Service, dtype: int64"
      ]
     },
     "execution_count": 41,
     "metadata": {},
     "output_type": "execute_result"
    }
   ],
   "source": [
    "## confirm only 'Facility' entries\n",
    "\n",
    "prov_desc_df_facility['Place of Service'].value_counts()"
   ]
  },
  {
   "cell_type": "markdown",
   "metadata": {},
   "source": [
    "## Use a dictionary for-loop to sort HCPCS descriptions by Provider Type for Facilty Visits."
   ]
  },
  {
   "cell_type": "code",
   "execution_count": null,
   "metadata": {},
   "outputs": [],
   "source": [
    "# Initialize an empty dictionary for facility visits: \n",
    "\n",
    "provider_type_dict_fac = {} \n",
    "\n",
    "# Iterate over the file\n",
    "    \n",
    "    # Iterate over the column in DataFrame\n",
    "for key, val in prov_desc_df_facility.iterrows():\n",
    "    if val['Provider Type'] not in provider_type_dict_fac.keys():\n",
    "        provider_type_dict_fac[val['Provider Type']]=[val['HCPCS Description']]\n",
    "        \n",
    "    elif (val['HCPCS Description'] not in provider_type_dict_fac[val['Provider Type']]):\n",
    "        provider_type_dict_fac[val['Provider Type']].append(val['HCPCS Description'])\n",
    "        \n",
    "    else:\n",
    "        continue\n",
    "\n",
    "\n",
    "# Print the populated dictionary\n",
    "print(provider_type_dict_fac)"
   ]
  },
  {
   "cell_type": "code",
   "execution_count": 43,
   "metadata": {},
   "outputs": [],
   "source": [
    "provider_type_subset_fac = pd.DataFrame.from_dict(provider_type_dict_fac, orient = \"index\")"
   ]
  },
  {
   "cell_type": "code",
   "execution_count": null,
   "metadata": {},
   "outputs": [],
   "source": [
    "pd.options.display.max_rows = 100\n",
    "provider_type_subset_fac"
   ]
  },
  {
   "cell_type": "markdown",
   "metadata": {},
   "source": [
    "## There is a discrepancy between number of codes and the descriptions..."
   ]
  },
  {
   "cell_type": "code",
   "execution_count": 45,
   "metadata": {},
   "outputs": [
    {
     "data": {
      "text/plain": [
       "5171"
      ]
     },
     "execution_count": 45,
     "metadata": {},
     "output_type": "execute_result"
    }
   ],
   "source": [
    "prov_desc_df['HCPCS Description'].nunique()"
   ]
  },
  {
   "cell_type": "code",
   "execution_count": 46,
   "metadata": {},
   "outputs": [
    {
     "data": {
      "text/plain": [
       "5702"
      ]
     },
     "execution_count": 46,
     "metadata": {},
     "output_type": "execute_result"
    }
   ],
   "source": [
    "prov_desc_df['HCPCS Code'].nunique()"
   ]
  },
  {
   "cell_type": "markdown",
   "metadata": {},
   "source": [
    "## Created csv files for export to Tableau to further analysis"
   ]
  },
  {
   "cell_type": "code",
   "execution_count": 47,
   "metadata": {},
   "outputs": [],
   "source": [
    "## Main dataframe\n",
    "prov_desc_df_no_office.to_csv('prov_type_no_office_visit.csv')"
   ]
  },
  {
   "cell_type": "code",
   "execution_count": 48,
   "metadata": {},
   "outputs": [],
   "source": [
    "## Office services subset\n",
    "provider_type_subset_ofc.to_csv('prov_type_sub_ofc.csv')"
   ]
  },
  {
   "cell_type": "code",
   "execution_count": 49,
   "metadata": {},
   "outputs": [],
   "source": [
    "## Facility services subset\n",
    "provider_type_subset_fac.to_csv('prov_type_sub_fac.csv')"
   ]
  },
  {
   "cell_type": "code",
   "execution_count": 50,
   "metadata": {},
   "outputs": [],
   "source": [
    "## Office visits dataframe\n",
    "prov_desc_df_office.to_csv('provider_type_office_service.csv')"
   ]
  },
  {
   "cell_type": "markdown",
   "metadata": {},
   "source": [
    "## Attempt to use plot(s) to visualize some parts of the data"
   ]
  },
  {
   "cell_type": "code",
   "execution_count": null,
   "metadata": {},
   "outputs": [],
   "source": [
    "\"\"\"fig, ax = plt.subplots(figsize=(8,8))\n",
    "plt.bar(prov_desc_df['Provider Type'], prov_desc_df['Place of Service'])\n",
    "plt.xlabel('Type')\n",
    "plt.ylabel('Place of Service')\n",
    "##plt.legend()\n",
    "##  .set_xticklabels(years)\n",
    "plt.title('Provider Types by Location', color = 'black');\"\"\""
   ]
  },
  {
   "cell_type": "code",
   "execution_count": null,
   "metadata": {},
   "outputs": [],
   "source": []
  }
 ],
 "metadata": {
  "kernelspec": {
   "display_name": "Python 3",
   "language": "python",
   "name": "python3"
  },
  "language_info": {
   "codemirror_mode": {
    "name": "ipython",
    "version": 3
   },
   "file_extension": ".py",
   "mimetype": "text/x-python",
   "name": "python",
   "nbconvert_exporter": "python",
   "pygments_lexer": "ipython3",
   "version": "3.7.6"
  }
 },
 "nbformat": 4,
 "nbformat_minor": 2
}
