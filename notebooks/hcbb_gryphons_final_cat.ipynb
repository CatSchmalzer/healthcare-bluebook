{
 "cells": [
  {
   "cell_type": "markdown",
   "metadata": {},
   "source": [
    "## HCBB gryphons_goal_3"
   ]
  },
  {
   "cell_type": "code",
   "execution_count": 1,
   "metadata": {},
   "outputs": [],
   "source": [
    "import pandas as pd"
   ]
  },
  {
   "cell_type": "markdown",
   "metadata": {},
   "source": [
    "## 1. What procedures could be reasonably associated with each individual Provider Type? There are 88 types of Providers.\n",
    "- Filters for Physician/Other Supplier\n",
    "- Entity Type = I\n",
    "- Place of Service = F and/or O\n",
    "- What is the normal ‘basket’ of procedures for each Provider Type?"
   ]
  },
  {
   "cell_type": "markdown",
   "metadata": {},
   "source": [
    "## 2. Which procedure codes drive the most revenue for each Professional Provider Types?\n",
    "- Exclude office visits"
   ]
  },
  {
   "cell_type": "markdown",
   "metadata": {},
   "source": [
    "## Stretch: Create a process that predicts if an individual professional should be Provider Type ‘Orthopedic Surgery’ based on the procedure codes they have data for.\n",
    "- How often does this data-driven expected Provider Type of ‘Orthopedic Surgery’ differ from the listed Provider Type for given professional?"
   ]
  },
  {
   "cell_type": "code",
   "execution_count": 2,
   "metadata": {},
   "outputs": [],
   "source": [
    "providers_and_procedures = pd.read_pickle(\"../data/hcpcs_providers_clean.pkl\")"
   ]
  },
  {
   "cell_type": "code",
   "execution_count": 3,
   "metadata": {},
   "outputs": [
    {
     "name": "stdout",
     "output_type": "stream",
     "text": [
      "<class 'pandas.core.frame.DataFrame'>\n",
      "RangeIndex: 9416125 entries, 0 to 9416124\n",
      "Data columns (total 23 columns):\n",
      "National Provider Identifier                                int64\n",
      "Last Name/Organization Name of the Provider                 object\n",
      "First Name of the Provider                                  object\n",
      "Credentials of the Provider                                 object\n",
      "Entity Type of the Provider                                 object\n",
      "Street Address 1 of the Provider                            object\n",
      "City of the Provider                                        object\n",
      "Zip Code of the Provider                                    object\n",
      "State Code of the Provider                                  object\n",
      "Country Code of the Provider                                object\n",
      "Provider Type                                               object\n",
      "Medicare Participation Indicator                            object\n",
      "Place of Service                                            object\n",
      "HCPCS Code                                                  object\n",
      "HCPCS Description                                           object\n",
      "HCPCS Drug Indicator                                        object\n",
      "Number of Services                                          float64\n",
      "Number of Medicare Beneficiaries                            int64\n",
      "Number of Distinct Medicare Beneficiary/Per Day Services    int64\n",
      "Average Medicare Allowed Amount                             float64\n",
      "Average Submitted Charge Amount                             float64\n",
      "Average Medicare Payment Amount                             float64\n",
      "Average Medicare Standardized Amount                        float64\n",
      "dtypes: float64(5), int64(3), object(15)\n",
      "memory usage: 1.6+ GB\n"
     ]
    }
   ],
   "source": [
    "providers_and_procedures.info()"
   ]
  },
  {
   "cell_type": "code",
   "execution_count": 4,
   "metadata": {},
   "outputs": [
    {
     "data": {
      "text/html": [
       "<div>\n",
       "<style scoped>\n",
       "    .dataframe tbody tr th:only-of-type {\n",
       "        vertical-align: middle;\n",
       "    }\n",
       "\n",
       "    .dataframe tbody tr th {\n",
       "        vertical-align: top;\n",
       "    }\n",
       "\n",
       "    .dataframe thead th {\n",
       "        text-align: right;\n",
       "    }\n",
       "</style>\n",
       "<table border=\"1\" class=\"dataframe\">\n",
       "  <thead>\n",
       "    <tr style=\"text-align: right;\">\n",
       "      <th></th>\n",
       "      <th>National Provider Identifier</th>\n",
       "      <th>Last Name/Organization Name of the Provider</th>\n",
       "      <th>First Name of the Provider</th>\n",
       "      <th>Credentials of the Provider</th>\n",
       "      <th>Entity Type of the Provider</th>\n",
       "      <th>Street Address 1 of the Provider</th>\n",
       "      <th>City of the Provider</th>\n",
       "      <th>Zip Code of the Provider</th>\n",
       "      <th>State Code of the Provider</th>\n",
       "      <th>Country Code of the Provider</th>\n",
       "      <th>...</th>\n",
       "      <th>HCPCS Code</th>\n",
       "      <th>HCPCS Description</th>\n",
       "      <th>HCPCS Drug Indicator</th>\n",
       "      <th>Number of Services</th>\n",
       "      <th>Number of Medicare Beneficiaries</th>\n",
       "      <th>Number of Distinct Medicare Beneficiary/Per Day Services</th>\n",
       "      <th>Average Medicare Allowed Amount</th>\n",
       "      <th>Average Submitted Charge Amount</th>\n",
       "      <th>Average Medicare Payment Amount</th>\n",
       "      <th>Average Medicare Standardized Amount</th>\n",
       "    </tr>\n",
       "  </thead>\n",
       "  <tbody>\n",
       "    <tr>\n",
       "      <td>0</td>\n",
       "      <td>1003000126</td>\n",
       "      <td>ENKESHAFI</td>\n",
       "      <td>ARDALAN</td>\n",
       "      <td>M.D.</td>\n",
       "      <td>I</td>\n",
       "      <td>900 SETON DR</td>\n",
       "      <td>CUMBERLAND</td>\n",
       "      <td>215021854</td>\n",
       "      <td>MD</td>\n",
       "      <td>US</td>\n",
       "      <td>...</td>\n",
       "      <td>99217</td>\n",
       "      <td>Hospital observation care discharge</td>\n",
       "      <td>N</td>\n",
       "      <td>100.0</td>\n",
       "      <td>96</td>\n",
       "      <td>100</td>\n",
       "      <td>73.398800</td>\n",
       "      <td>325.780000</td>\n",
       "      <td>56.827200</td>\n",
       "      <td>57.492400</td>\n",
       "    </tr>\n",
       "    <tr>\n",
       "      <td>1</td>\n",
       "      <td>1003000126</td>\n",
       "      <td>ENKESHAFI</td>\n",
       "      <td>ARDALAN</td>\n",
       "      <td>M.D.</td>\n",
       "      <td>I</td>\n",
       "      <td>900 SETON DR</td>\n",
       "      <td>CUMBERLAND</td>\n",
       "      <td>215021854</td>\n",
       "      <td>MD</td>\n",
       "      <td>US</td>\n",
       "      <td>...</td>\n",
       "      <td>99218</td>\n",
       "      <td>Hospital observation care typically 30 minutes</td>\n",
       "      <td>N</td>\n",
       "      <td>26.0</td>\n",
       "      <td>25</td>\n",
       "      <td>26</td>\n",
       "      <td>100.080000</td>\n",
       "      <td>449.000000</td>\n",
       "      <td>78.460000</td>\n",
       "      <td>79.306154</td>\n",
       "    </tr>\n",
       "    <tr>\n",
       "      <td>2</td>\n",
       "      <td>1003000126</td>\n",
       "      <td>ENKESHAFI</td>\n",
       "      <td>ARDALAN</td>\n",
       "      <td>M.D.</td>\n",
       "      <td>I</td>\n",
       "      <td>900 SETON DR</td>\n",
       "      <td>CUMBERLAND</td>\n",
       "      <td>215021854</td>\n",
       "      <td>MD</td>\n",
       "      <td>US</td>\n",
       "      <td>...</td>\n",
       "      <td>99219</td>\n",
       "      <td>Hospital observation care typically 50 minutes</td>\n",
       "      <td>N</td>\n",
       "      <td>52.0</td>\n",
       "      <td>51</td>\n",
       "      <td>52</td>\n",
       "      <td>136.380000</td>\n",
       "      <td>614.000000</td>\n",
       "      <td>102.807692</td>\n",
       "      <td>103.895385</td>\n",
       "    </tr>\n",
       "    <tr>\n",
       "      <td>3</td>\n",
       "      <td>1003000126</td>\n",
       "      <td>ENKESHAFI</td>\n",
       "      <td>ARDALAN</td>\n",
       "      <td>M.D.</td>\n",
       "      <td>I</td>\n",
       "      <td>900 SETON DR</td>\n",
       "      <td>CUMBERLAND</td>\n",
       "      <td>215021854</td>\n",
       "      <td>MD</td>\n",
       "      <td>US</td>\n",
       "      <td>...</td>\n",
       "      <td>99220</td>\n",
       "      <td>Hospital observation care typically 70 minutes...</td>\n",
       "      <td>N</td>\n",
       "      <td>59.0</td>\n",
       "      <td>59</td>\n",
       "      <td>59</td>\n",
       "      <td>190.363729</td>\n",
       "      <td>755.932203</td>\n",
       "      <td>141.293559</td>\n",
       "      <td>142.865763</td>\n",
       "    </tr>\n",
       "    <tr>\n",
       "      <td>4</td>\n",
       "      <td>1003000126</td>\n",
       "      <td>ENKESHAFI</td>\n",
       "      <td>ARDALAN</td>\n",
       "      <td>M.D.</td>\n",
       "      <td>I</td>\n",
       "      <td>900 SETON DR</td>\n",
       "      <td>CUMBERLAND</td>\n",
       "      <td>215021854</td>\n",
       "      <td>MD</td>\n",
       "      <td>US</td>\n",
       "      <td>...</td>\n",
       "      <td>99221</td>\n",
       "      <td>Initial hospital inpatient care, typically 30 ...</td>\n",
       "      <td>N</td>\n",
       "      <td>16.0</td>\n",
       "      <td>16</td>\n",
       "      <td>16</td>\n",
       "      <td>101.680000</td>\n",
       "      <td>462.812500</td>\n",
       "      <td>79.710000</td>\n",
       "      <td>80.750000</td>\n",
       "    </tr>\n",
       "  </tbody>\n",
       "</table>\n",
       "<p>5 rows × 23 columns</p>\n",
       "</div>"
      ],
      "text/plain": [
       "   National Provider Identifier Last Name/Organization Name of the Provider  \\\n",
       "0                    1003000126                                   ENKESHAFI   \n",
       "1                    1003000126                                   ENKESHAFI   \n",
       "2                    1003000126                                   ENKESHAFI   \n",
       "3                    1003000126                                   ENKESHAFI   \n",
       "4                    1003000126                                   ENKESHAFI   \n",
       "\n",
       "  First Name of the Provider Credentials of the Provider  \\\n",
       "0                    ARDALAN                        M.D.   \n",
       "1                    ARDALAN                        M.D.   \n",
       "2                    ARDALAN                        M.D.   \n",
       "3                    ARDALAN                        M.D.   \n",
       "4                    ARDALAN                        M.D.   \n",
       "\n",
       "  Entity Type of the Provider Street Address 1 of the Provider  \\\n",
       "0                           I                     900 SETON DR   \n",
       "1                           I                     900 SETON DR   \n",
       "2                           I                     900 SETON DR   \n",
       "3                           I                     900 SETON DR   \n",
       "4                           I                     900 SETON DR   \n",
       "\n",
       "  City of the Provider Zip Code of the Provider State Code of the Provider  \\\n",
       "0           CUMBERLAND                215021854                         MD   \n",
       "1           CUMBERLAND                215021854                         MD   \n",
       "2           CUMBERLAND                215021854                         MD   \n",
       "3           CUMBERLAND                215021854                         MD   \n",
       "4           CUMBERLAND                215021854                         MD   \n",
       "\n",
       "  Country Code of the Provider  ... HCPCS Code  \\\n",
       "0                           US  ...      99217   \n",
       "1                           US  ...      99218   \n",
       "2                           US  ...      99219   \n",
       "3                           US  ...      99220   \n",
       "4                           US  ...      99221   \n",
       "\n",
       "                                   HCPCS Description HCPCS Drug Indicator  \\\n",
       "0                Hospital observation care discharge                    N   \n",
       "1     Hospital observation care typically 30 minutes                    N   \n",
       "2     Hospital observation care typically 50 minutes                    N   \n",
       "3  Hospital observation care typically 70 minutes...                    N   \n",
       "4  Initial hospital inpatient care, typically 30 ...                    N   \n",
       "\n",
       "  Number of Services Number of Medicare Beneficiaries  \\\n",
       "0              100.0                               96   \n",
       "1               26.0                               25   \n",
       "2               52.0                               51   \n",
       "3               59.0                               59   \n",
       "4               16.0                               16   \n",
       "\n",
       "  Number of Distinct Medicare Beneficiary/Per Day Services  \\\n",
       "0                                                100         \n",
       "1                                                 26         \n",
       "2                                                 52         \n",
       "3                                                 59         \n",
       "4                                                 16         \n",
       "\n",
       "   Average Medicare Allowed Amount  Average Submitted Charge Amount  \\\n",
       "0                        73.398800                       325.780000   \n",
       "1                       100.080000                       449.000000   \n",
       "2                       136.380000                       614.000000   \n",
       "3                       190.363729                       755.932203   \n",
       "4                       101.680000                       462.812500   \n",
       "\n",
       "   Average Medicare Payment Amount  Average Medicare Standardized Amount  \n",
       "0                        56.827200                             57.492400  \n",
       "1                        78.460000                             79.306154  \n",
       "2                       102.807692                            103.895385  \n",
       "3                       141.293559                            142.865763  \n",
       "4                        79.710000                             80.750000  \n",
       "\n",
       "[5 rows x 23 columns]"
      ]
     },
     "execution_count": 4,
     "metadata": {},
     "output_type": "execute_result"
    }
   ],
   "source": [
    "providers_and_procedures.head()"
   ]
  },
  {
   "cell_type": "code",
   "execution_count": 5,
   "metadata": {},
   "outputs": [
    {
     "data": {
      "text/plain": [
       "O    5740315\n",
       "F    3675810\n",
       "Name: Place of Service, dtype: int64"
      ]
     },
     "execution_count": 5,
     "metadata": {},
     "output_type": "execute_result"
    }
   ],
   "source": [
    "providers_and_procedures['Place of Service'].value_counts()"
   ]
  },
  {
   "cell_type": "code",
   "execution_count": 7,
   "metadata": {},
   "outputs": [
    {
     "data": {
      "text/plain": [
       "Diagnostic Radiology                   1241400\n",
       "Internal Medicine                      1118171\n",
       "Family Practice                         969268\n",
       "Nurse Practitioner                      560219\n",
       "Cardiology                              445088\n",
       "                                        ...   \n",
       "Ambulance Service Provider                  42\n",
       "Unknown Supplier/Provider Specialty         17\n",
       "All Other Suppliers                         11\n",
       "Medical Toxicology                           2\n",
       "Slide Preparation Facility                   2\n",
       "Name: Provider Type, Length: 88, dtype: int64"
      ]
     },
     "execution_count": 7,
     "metadata": {},
     "output_type": "execute_result"
    }
   ],
   "source": [
    "providers_and_procedures['Provider Type'].value_counts()"
   ]
  },
  {
   "cell_type": "code",
   "execution_count": 8,
   "metadata": {},
   "outputs": [
    {
     "data": {
      "text/plain": [
       "Established patient office or other outpatient visit, typically 15 minutes    457835\n",
       "Established patient office or other outpatient, visit typically 25 minutes    428262\n",
       "New patient office or other outpatient visit, typically 45 minutes            179569\n",
       "New patient office or other outpatient visit, typically 30 minutes            178057\n",
       "Subsequent hospital inpatient care, typically 25 minutes per day              175335\n",
       "                                                                               ...  \n",
       "Anesthesia for surgery of nose and sinus                                           1\n",
       "Procalcitonin (hormone) level                                                      1\n",
       "Clotting factor XIII (fibrin stabilizing) screening test                           1\n",
       "Anesthesia for closed procedure on bones of forearm, wrist, or hand                1\n",
       "Injection, progesterone, per 50 mg                                                 1\n",
       "Name: HCPCS Description, Length: 5171, dtype: int64"
      ]
     },
     "execution_count": 8,
     "metadata": {},
     "output_type": "execute_result"
    }
   ],
   "source": [
    "providers_and_procedures['HCPCS Description'].value_counts()"
   ]
  },
  {
   "cell_type": "code",
   "execution_count": null,
   "metadata": {},
   "outputs": [],
   "source": []
  }
 ],
 "metadata": {
  "kernelspec": {
   "display_name": "Python 3",
   "language": "python",
   "name": "python3"
  },
  "language_info": {
   "codemirror_mode": {
    "name": "ipython",
    "version": 3
   },
   "file_extension": ".py",
   "mimetype": "text/x-python",
   "name": "python",
   "nbconvert_exporter": "python",
   "pygments_lexer": "ipython3",
   "version": "3.7.4"
  }
 },
 "nbformat": 4,
 "nbformat_minor": 2
}
